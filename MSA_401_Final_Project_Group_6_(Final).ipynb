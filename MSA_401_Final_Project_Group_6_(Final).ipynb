{
  "nbformat": 4,
  "nbformat_minor": 0,
  "metadata": {
    "colab": {
      "provenance": [],
      "toc_visible": true
    },
    "kernelspec": {
      "display_name": "Python 3",
      "language": "python",
      "name": "python3"
    },
    "language_info": {
      "codemirror_mode": {
        "name": "ipython",
        "version": 3
      },
      "file_extension": ".py",
      "mimetype": "text/x-python",
      "name": "python",
      "nbconvert_exporter": "python",
      "pygments_lexer": "ipython3",
      "version": "3.7.6"
    }
  },
  "cells": [
    {
      "cell_type": "markdown",
      "metadata": {
        "id": "P_peVmuS_guZ"
      },
      "source": [
        "## Keras: A high level neural network library\n",
        "\n",
        "In this exercise we will revisit classification using simple neural networks. To do so we will use Keras, a popular neural network package. Keras is a high level library that allows rapid prototyping of neural networks due to its precompiled layers, just as Scikit-learn contains a number of prebuilt classifiers.\n"
      ]
    },
    {
      "cell_type": "markdown",
      "metadata": {
        "id": "1c3g71Ke_guZ"
      },
      "source": [
        "## Keras\n",
        "\n",
        "Detailed instructions can be found at https://keras.io.\n"
      ]
    },
    {
      "cell_type": "markdown",
      "metadata": {
        "id": "-QvnyQHg_guZ"
      },
      "source": [
        "To start the demo, we have a 2D dataset so we can visualize what the network is doing."
      ]
    },
    {
      "cell_type": "markdown",
      "metadata": {
        "id": "MqReWzn1_guZ"
      },
      "source": [
        "Neural networks are so popular now due to their ability to quickly learn nonlinear boundaries. So, we have an example that would be impossible for a linear classifier and demonstrate how a neural network can be used to solve this. As you can see, in the dataset below there is no straight line that you can draw that perfectly separates the red and blue classes"
      ]
    },
    {
      "cell_type": "code",
      "metadata": {
        "colab": {
          "base_uri": "https://localhost:8080/",
          "height": 73
        },
        "id": "EeTd5EzMe_fM",
        "outputId": "9fd0c343-758c-4abd-ff9e-f2a974713bb4"
      },
      "source": [
        "from google.colab import files \n",
        "src = list(files.upload().values())[0]\n",
        "open('utils.py','wb').write(src)\n",
        "import utils"
      ],
      "execution_count": null,
      "outputs": [
        {
          "output_type": "display_data",
          "data": {
            "text/plain": [
              "<IPython.core.display.HTML object>"
            ],
            "text/html": [
              "\n",
              "     <input type=\"file\" id=\"files-525f0841-c28b-4b68-97cb-d1901662327c\" name=\"files[]\" multiple disabled\n",
              "        style=\"border:none\" />\n",
              "     <output id=\"result-525f0841-c28b-4b68-97cb-d1901662327c\">\n",
              "      Upload widget is only available when the cell has been executed in the\n",
              "      current browser session. Please rerun this cell to enable.\n",
              "      </output>\n",
              "      <script>// Copyright 2017 Google LLC\n",
              "//\n",
              "// Licensed under the Apache License, Version 2.0 (the \"License\");\n",
              "// you may not use this file except in compliance with the License.\n",
              "// You may obtain a copy of the License at\n",
              "//\n",
              "//      http://www.apache.org/licenses/LICENSE-2.0\n",
              "//\n",
              "// Unless required by applicable law or agreed to in writing, software\n",
              "// distributed under the License is distributed on an \"AS IS\" BASIS,\n",
              "// WITHOUT WARRANTIES OR CONDITIONS OF ANY KIND, either express or implied.\n",
              "// See the License for the specific language governing permissions and\n",
              "// limitations under the License.\n",
              "\n",
              "/**\n",
              " * @fileoverview Helpers for google.colab Python module.\n",
              " */\n",
              "(function(scope) {\n",
              "function span(text, styleAttributes = {}) {\n",
              "  const element = document.createElement('span');\n",
              "  element.textContent = text;\n",
              "  for (const key of Object.keys(styleAttributes)) {\n",
              "    element.style[key] = styleAttributes[key];\n",
              "  }\n",
              "  return element;\n",
              "}\n",
              "\n",
              "// Max number of bytes which will be uploaded at a time.\n",
              "const MAX_PAYLOAD_SIZE = 100 * 1024;\n",
              "\n",
              "function _uploadFiles(inputId, outputId) {\n",
              "  const steps = uploadFilesStep(inputId, outputId);\n",
              "  const outputElement = document.getElementById(outputId);\n",
              "  // Cache steps on the outputElement to make it available for the next call\n",
              "  // to uploadFilesContinue from Python.\n",
              "  outputElement.steps = steps;\n",
              "\n",
              "  return _uploadFilesContinue(outputId);\n",
              "}\n",
              "\n",
              "// This is roughly an async generator (not supported in the browser yet),\n",
              "// where there are multiple asynchronous steps and the Python side is going\n",
              "// to poll for completion of each step.\n",
              "// This uses a Promise to block the python side on completion of each step,\n",
              "// then passes the result of the previous step as the input to the next step.\n",
              "function _uploadFilesContinue(outputId) {\n",
              "  const outputElement = document.getElementById(outputId);\n",
              "  const steps = outputElement.steps;\n",
              "\n",
              "  const next = steps.next(outputElement.lastPromiseValue);\n",
              "  return Promise.resolve(next.value.promise).then((value) => {\n",
              "    // Cache the last promise value to make it available to the next\n",
              "    // step of the generator.\n",
              "    outputElement.lastPromiseValue = value;\n",
              "    return next.value.response;\n",
              "  });\n",
              "}\n",
              "\n",
              "/**\n",
              " * Generator function which is called between each async step of the upload\n",
              " * process.\n",
              " * @param {string} inputId Element ID of the input file picker element.\n",
              " * @param {string} outputId Element ID of the output display.\n",
              " * @return {!Iterable<!Object>} Iterable of next steps.\n",
              " */\n",
              "function* uploadFilesStep(inputId, outputId) {\n",
              "  const inputElement = document.getElementById(inputId);\n",
              "  inputElement.disabled = false;\n",
              "\n",
              "  const outputElement = document.getElementById(outputId);\n",
              "  outputElement.innerHTML = '';\n",
              "\n",
              "  const pickedPromise = new Promise((resolve) => {\n",
              "    inputElement.addEventListener('change', (e) => {\n",
              "      resolve(e.target.files);\n",
              "    });\n",
              "  });\n",
              "\n",
              "  const cancel = document.createElement('button');\n",
              "  inputElement.parentElement.appendChild(cancel);\n",
              "  cancel.textContent = 'Cancel upload';\n",
              "  const cancelPromise = new Promise((resolve) => {\n",
              "    cancel.onclick = () => {\n",
              "      resolve(null);\n",
              "    };\n",
              "  });\n",
              "\n",
              "  // Wait for the user to pick the files.\n",
              "  const files = yield {\n",
              "    promise: Promise.race([pickedPromise, cancelPromise]),\n",
              "    response: {\n",
              "      action: 'starting',\n",
              "    }\n",
              "  };\n",
              "\n",
              "  cancel.remove();\n",
              "\n",
              "  // Disable the input element since further picks are not allowed.\n",
              "  inputElement.disabled = true;\n",
              "\n",
              "  if (!files) {\n",
              "    return {\n",
              "      response: {\n",
              "        action: 'complete',\n",
              "      }\n",
              "    };\n",
              "  }\n",
              "\n",
              "  for (const file of files) {\n",
              "    const li = document.createElement('li');\n",
              "    li.append(span(file.name, {fontWeight: 'bold'}));\n",
              "    li.append(span(\n",
              "        `(${file.type || 'n/a'}) - ${file.size} bytes, ` +\n",
              "        `last modified: ${\n",
              "            file.lastModifiedDate ? file.lastModifiedDate.toLocaleDateString() :\n",
              "                                    'n/a'} - `));\n",
              "    const percent = span('0% done');\n",
              "    li.appendChild(percent);\n",
              "\n",
              "    outputElement.appendChild(li);\n",
              "\n",
              "    const fileDataPromise = new Promise((resolve) => {\n",
              "      const reader = new FileReader();\n",
              "      reader.onload = (e) => {\n",
              "        resolve(e.target.result);\n",
              "      };\n",
              "      reader.readAsArrayBuffer(file);\n",
              "    });\n",
              "    // Wait for the data to be ready.\n",
              "    let fileData = yield {\n",
              "      promise: fileDataPromise,\n",
              "      response: {\n",
              "        action: 'continue',\n",
              "      }\n",
              "    };\n",
              "\n",
              "    // Use a chunked sending to avoid message size limits. See b/62115660.\n",
              "    let position = 0;\n",
              "    do {\n",
              "      const length = Math.min(fileData.byteLength - position, MAX_PAYLOAD_SIZE);\n",
              "      const chunk = new Uint8Array(fileData, position, length);\n",
              "      position += length;\n",
              "\n",
              "      const base64 = btoa(String.fromCharCode.apply(null, chunk));\n",
              "      yield {\n",
              "        response: {\n",
              "          action: 'append',\n",
              "          file: file.name,\n",
              "          data: base64,\n",
              "        },\n",
              "      };\n",
              "\n",
              "      let percentDone = fileData.byteLength === 0 ?\n",
              "          100 :\n",
              "          Math.round((position / fileData.byteLength) * 100);\n",
              "      percent.textContent = `${percentDone}% done`;\n",
              "\n",
              "    } while (position < fileData.byteLength);\n",
              "  }\n",
              "\n",
              "  // All done.\n",
              "  yield {\n",
              "    response: {\n",
              "      action: 'complete',\n",
              "    }\n",
              "  };\n",
              "}\n",
              "\n",
              "scope.google = scope.google || {};\n",
              "scope.google.colab = scope.google.colab || {};\n",
              "scope.google.colab._files = {\n",
              "  _uploadFiles,\n",
              "  _uploadFilesContinue,\n",
              "};\n",
              "})(self);\n",
              "</script> "
            ]
          },
          "metadata": {}
        },
        {
          "output_type": "stream",
          "name": "stdout",
          "text": [
            "Saving utils.py to utils.py\n"
          ]
        }
      ]
    },
    {
      "cell_type": "code",
      "metadata": {
        "colab": {
          "base_uri": "https://localhost:8080/",
          "height": 297
        },
        "id": "pl3znvIx_guZ",
        "outputId": "d48e6b38-7fa5-4580-cef8-a28c0f0bd949"
      },
      "source": [
        "from matplotlib.colors import ListedColormap\n",
        "import matplotlib.pyplot as plt\n",
        "import numpy as np\n",
        "import pandas as pd\n",
        "from utils import lenses_dataset, get_colors\n",
        "\n",
        "\n",
        "X, y = lenses_dataset()\n",
        "\n",
        "# For consistent color plotting:\n",
        "\n",
        "cmap=get_colors(y)\n",
        "\n",
        "plt.scatter(X[:, 0], X[:, 1], c=y, cmap=cmap)\n",
        "plt.tight_layout()\n",
        "plt.show()"
      ],
      "execution_count": null,
      "outputs": [
        {
          "output_type": "display_data",
          "data": {
            "text/plain": [
              "<Figure size 432x288 with 1 Axes>"
            ],
            "image/png": "[encoded data removed]"
          },
          "metadata": {
            "needs_background": "light"
          }
        }
      ]
    },
    {
      "cell_type": "markdown",
      "metadata": {
        "id": "_QvnmMs1_gua"
      },
      "source": [
        "Let's split it into a training and testing set "
      ]
    },
    {
      "cell_type": "code",
      "metadata": {
        "id": "IXG3HvEd_gua"
      },
      "source": [
        "from sklearn.model_selection import train_test_split\n",
        "\n",
        "X_train, X_test, y_train, y_test = train_test_split(X, y, test_size=.2, random_state=10) "
      ],
      "execution_count": null,
      "outputs": []
    },
    {
      "cell_type": "markdown",
      "metadata": {
        "id": "nScv-AKn_gua"
      },
      "source": [
        "We will build a Perceptron using Keras as an example-- Recall that a perceptron is a 0 hidden layer neural network with a single output unit. In Keras terms, it's a single Dense layer with 1 unit. \n",
        "\n",
        "We will build this perceptron with a sigmoidal output (so it outputs a probability of class 1) and the binary_crossentropy loss function (which corresponds to sigmoid)."
      ]
    },
    {
      "cell_type": "code",
      "metadata": {
        "id": "CHaYpfBx_gua"
      },
      "source": [
        "# Relevant imports\n",
        "from keras.models import Sequential\n",
        "# Keras refers to an architecture in which the outputs of \n",
        "# one layer are the inputs to the next as \"Sequential\"\n",
        "from keras.layers import Dense\n",
        "# Everything we've talked about in class so far is referred to in \n",
        "# Keras as a \"dense\" connection between layers, where every input \n",
        "# unit connects to a unit in the next layer\n",
        "from tensorflow.keras.optimizers import SGD\n",
        "# SGD is the learning algorithm we will use"
      ],
      "execution_count": null,
      "outputs": []
    },
    {
      "cell_type": "markdown",
      "metadata": {
        "id": "ZzB0NzcT_gua"
      },
      "source": [
        "# Exercise 1:"
      ]
    },
    {
      "cell_type": "markdown",
      "metadata": {
        "id": "5LKr9HK7hteo"
      },
      "source": [
        "Q1. Let's first create neural network with 1 layer \n",
        "\n",
        "To add a layer to the architecture, you would simply use .add(LAYER).\n",
        "\n",
        "Each \"input_dim\" of each layer should be the number units in the previous layer (in this case the input), and the number of \"units\" should be the number of outputs of the layer (in this case it will be 1)."
      ]
    },
    {
      "cell_type": "code",
      "metadata": {
        "id": "kYqYNFrP_gua"
      },
      "source": [
        "### YOUR CODE HERE ###\n",
        "perceptron = Sequential()\n",
        "perceptron.add(\n",
        "    Dense(1, input_dim = X_train.shape[1], activation = \"sigmoid\")\n",
        ")"
      ],
      "execution_count": null,
      "outputs": []
    },
    {
      "cell_type": "markdown",
      "metadata": {
        "id": "cSX2bBrC_gua"
      },
      "source": [
        "Now we specify how to optimize the neural network. We mentioned gradient descent and stochastic gradient descent in class. Let's use the latter here and compile the model. We also specify the loss function as \"binary_crossentropy\". "
      ]
    },
    {
      "cell_type": "code",
      "metadata": {
        "id": "xP3evo0F_gua"
      },
      "source": [
        "sgd = SGD(learning_rate=0.001, decay=1e-7, momentum=.9)  # Stochastic gradient descent\n",
        "perceptron.compile(loss=\"binary_crossentropy\", optimizer=sgd)\n"
      ],
      "execution_count": null,
      "outputs": []
    },
    {
      "cell_type": "markdown",
      "metadata": {
        "id": "0C2FWqEDY2ZK"
      },
      "source": [
        "Q2. Now we train the built perceptron with appropriate epochs and batch_size."
      ]
    },
    {
      "cell_type": "code",
      "metadata": {
        "id": "fYKvumEB_gua",
        "scrolled": true,
        "colab": {
          "base_uri": "https://localhost:8080/"
        },
        "outputId": "4b4d9879-ba08-48f3-cfde-9bf1e52bb345"
      },
      "source": [
        "### YOUR CODE HERE ###\n",
        "perceptron.fit(X_train, y_train, batch_size = 32, epochs = 100)"
      ],
      "execution_count": null,
      "outputs": [
        {
          "output_type": "stream",
          "name": "stdout",
          "text": [
            "Epoch 1/100\n",
            "5/5 [==============================] - 0s 3ms/step - loss: 0.4533\n",
            "Epoch 2/100\n",
            "5/5 [==============================] - 0s 3ms/step - loss: 0.4528\n",
            "Epoch 3/100\n",
            "5/5 [==============================] - 0s 3ms/step - loss: 0.4521\n",
            "Epoch 4/100\n",
            "5/5 [==============================] - 0s 5ms/step - loss: 0.4512\n",
            "Epoch 5/100\n",
            "5/5 [==============================] - 0s 4ms/step - loss: 0.4503\n",
            "Epoch 6/100\n",
            "5/5 [==============================] - 0s 3ms/step - loss: 0.4492\n",
            "Epoch 7/100\n",
            "5/5 [==============================] - 0s 3ms/step - loss: 0.4482\n",
            "Epoch 8/100\n",
            "5/5 [==============================] - 0s 4ms/step - loss: 0.4471\n",
            "Epoch 9/100\n",
            "5/5 [==============================] - 0s 3ms/step - loss: 0.4461\n",
            "Epoch 10/100\n",
            "5/5 [==============================] - 0s 4ms/step - loss: 0.4450\n",
            "Epoch 11/100\n",
            "5/5 [==============================] - 0s 3ms/step - loss: 0.4440\n",
            "Epoch 12/100\n",
            "5/5 [==============================] - 0s 3ms/step - loss: 0.4430\n",
            "Epoch 13/100\n",
            "5/5 [==============================] - 0s 3ms/step - loss: 0.4420\n",
            "Epoch 14/100\n",
            "5/5 [==============================] - 0s 4ms/step - loss: 0.4410\n",
            "Epoch 15/100\n",
            "5/5 [==============================] - 0s 3ms/step - loss: 0.4400\n",
            "Epoch 16/100\n",
            "5/5 [==============================] - 0s 3ms/step - loss: 0.4390\n",
            "Epoch 17/100\n",
            "5/5 [==============================] - 0s 4ms/step - loss: 0.4380\n",
            "Epoch 18/100\n",
            "5/5 [==============================] - 0s 3ms/step - loss: 0.4370\n",
            "Epoch 19/100\n",
            "5/5 [==============================] - 0s 3ms/step - loss: 0.4361\n",
            "Epoch 20/100\n",
            "5/5 [==============================] - 0s 3ms/step - loss: 0.4352\n",
            "Epoch 21/100\n",
            "5/5 [==============================] - 0s 3ms/step - loss: 0.4342\n",
            "Epoch 22/100\n",
            "5/5 [==============================] - 0s 3ms/step - loss: 0.4333\n",
            "Epoch 23/100\n",
            "5/5 [==============================] - 0s 3ms/step - loss: 0.4324\n",
            "Epoch 24/100\n",
            "5/5 [==============================] - 0s 5ms/step - loss: 0.4315\n",
            "Epoch 25/100\n",
            "5/5 [==============================] - 0s 3ms/step - loss: 0.4306\n",
            "Epoch 26/100\n",
            "5/5 [==============================] - 0s 3ms/step - loss: 0.4297\n",
            "Epoch 27/100\n",
            "5/5 [==============================] - 0s 3ms/step - loss: 0.4288\n",
            "Epoch 28/100\n",
            "5/5 [==============================] - 0s 3ms/step - loss: 0.4280\n",
            "Epoch 29/100\n",
            "5/5 [==============================] - 0s 3ms/step - loss: 0.4271\n",
            "Epoch 30/100\n",
            "5/5 [==============================] - 0s 4ms/step - loss: 0.4263\n",
            "Epoch 31/100\n",
            "5/5 [==============================] - 0s 3ms/step - loss: 0.4254\n",
            "Epoch 32/100\n",
            "5/5 [==============================] - 0s 3ms/step - loss: 0.4246\n",
            "Epoch 33/100\n",
            "5/5 [==============================] - 0s 3ms/step - loss: 0.4237\n",
            "Epoch 34/100\n",
            "5/5 [==============================] - 0s 4ms/step - loss: 0.4229\n",
            "Epoch 35/100\n",
            "5/5 [==============================] - 0s 3ms/step - loss: 0.4222\n",
            "Epoch 36/100\n",
            "5/5 [==============================] - 0s 3ms/step - loss: 0.4214\n",
            "Epoch 37/100\n",
            "5/5 [==============================] - 0s 4ms/step - loss: 0.4206\n",
            "Epoch 38/100\n",
            "5/5 [==============================] - 0s 3ms/step - loss: 0.4198\n",
            "Epoch 39/100\n",
            "5/5 [==============================] - 0s 3ms/step - loss: 0.4190\n",
            "Epoch 40/100\n",
            "5/5 [==============================] - 0s 3ms/step - loss: 0.4182\n",
            "Epoch 41/100\n",
            "5/5 [==============================] - 0s 3ms/step - loss: 0.4175\n",
            "Epoch 42/100\n",
            "5/5 [==============================] - 0s 3ms/step - loss: 0.4167\n",
            "Epoch 43/100\n",
            "5/5 [==============================] - 0s 3ms/step - loss: 0.4159\n",
            "Epoch 44/100\n",
            "5/5 [==============================] - 0s 5ms/step - loss: 0.4152\n",
            "Epoch 45/100\n",
            "5/5 [==============================] - 0s 3ms/step - loss: 0.4145\n",
            "Epoch 46/100\n",
            "5/5 [==============================] - 0s 3ms/step - loss: 0.4138\n",
            "Epoch 47/100\n",
            "5/5 [==============================] - 0s 3ms/step - loss: 0.4130\n",
            "Epoch 48/100\n",
            "5/5 [==============================] - 0s 5ms/step - loss: 0.4123\n",
            "Epoch 49/100\n",
            "5/5 [==============================] - 0s 3ms/step - loss: 0.4116\n",
            "Epoch 50/100\n",
            "5/5 [==============================] - 0s 3ms/step - loss: 0.4109\n",
            "Epoch 51/100\n",
            "5/5 [==============================] - 0s 4ms/step - loss: 0.4103\n",
            "Epoch 52/100\n",
            "5/5 [==============================] - 0s 4ms/step - loss: 0.4096\n",
            "Epoch 53/100\n",
            "5/5 [==============================] - 0s 3ms/step - loss: 0.4089\n",
            "Epoch 54/100\n",
            "5/5 [==============================] - 0s 4ms/step - loss: 0.4082\n",
            "Epoch 55/100\n",
            "5/5 [==============================] - 0s 3ms/step - loss: 0.4076\n",
            "Epoch 56/100\n",
            "5/5 [==============================] - 0s 3ms/step - loss: 0.4069\n",
            "Epoch 57/100\n",
            "5/5 [==============================] - 0s 3ms/step - loss: 0.4062\n",
            "Epoch 58/100\n",
            "5/5 [==============================] - 0s 3ms/step - loss: 0.4056\n",
            "Epoch 59/100\n",
            "5/5 [==============================] - 0s 3ms/step - loss: 0.4050\n",
            "Epoch 60/100\n",
            "5/5 [==============================] - 0s 3ms/step - loss: 0.4043\n",
            "Epoch 61/100\n",
            "5/5 [==============================] - 0s 3ms/step - loss: 0.4037\n",
            "Epoch 62/100\n",
            "5/5 [==============================] - 0s 3ms/step - loss: 0.4030\n",
            "Epoch 63/100\n",
            "5/5 [==============================] - 0s 4ms/step - loss: 0.4025\n",
            "Epoch 64/100\n",
            "5/5 [==============================] - 0s 5ms/step - loss: 0.4018\n",
            "Epoch 65/100\n",
            "5/5 [==============================] - 0s 3ms/step - loss: 0.4012\n",
            "Epoch 66/100\n",
            "5/5 [==============================] - 0s 3ms/step - loss: 0.4006\n",
            "Epoch 67/100\n",
            "5/5 [==============================] - 0s 4ms/step - loss: 0.4000\n",
            "Epoch 68/100\n",
            "5/5 [==============================] - 0s 3ms/step - loss: 0.3994\n",
            "Epoch 69/100\n",
            "5/5 [==============================] - 0s 3ms/step - loss: 0.3988\n",
            "Epoch 70/100\n",
            "5/5 [==============================] - 0s 3ms/step - loss: 0.3983\n",
            "Epoch 71/100\n",
            "5/5 [==============================] - 0s 3ms/step - loss: 0.3977\n",
            "Epoch 72/100\n",
            "5/5 [==============================] - 0s 3ms/step - loss: 0.3971\n",
            "Epoch 73/100\n",
            "5/5 [==============================] - 0s 3ms/step - loss: 0.3966\n",
            "Epoch 74/100\n",
            "5/5 [==============================] - 0s 3ms/step - loss: 0.3960\n",
            "Epoch 75/100\n",
            "5/5 [==============================] - 0s 3ms/step - loss: 0.3954\n",
            "Epoch 76/100\n",
            "5/5 [==============================] - 0s 4ms/step - loss: 0.3949\n",
            "Epoch 77/100\n",
            "5/5 [==============================] - 0s 5ms/step - loss: 0.3943\n",
            "Epoch 78/100\n",
            "5/5 [==============================] - 0s 3ms/step - loss: 0.3938\n",
            "Epoch 79/100\n",
            "5/5 [==============================] - 0s 3ms/step - loss: 0.3932\n",
            "Epoch 80/100\n",
            "5/5 [==============================] - 0s 3ms/step - loss: 0.3927\n",
            "Epoch 81/100\n",
            "5/5 [==============================] - 0s 4ms/step - loss: 0.3922\n",
            "Epoch 82/100\n",
            "5/5 [==============================] - 0s 3ms/step - loss: 0.3916\n",
            "Epoch 83/100\n",
            "5/5 [==============================] - 0s 3ms/step - loss: 0.3911\n",
            "Epoch 84/100\n",
            "5/5 [==============================] - 0s 3ms/step - loss: 0.3906\n",
            "Epoch 85/100\n",
            "5/5 [==============================] - 0s 3ms/step - loss: 0.3901\n",
            "Epoch 86/100\n",
            "5/5 [==============================] - 0s 3ms/step - loss: 0.3896\n",
            "Epoch 87/100\n",
            "5/5 [==============================] - 0s 4ms/step - loss: 0.3891\n",
            "Epoch 88/100\n",
            "5/5 [==============================] - 0s 4ms/step - loss: 0.3886\n",
            "Epoch 89/100\n",
            "5/5 [==============================] - 0s 3ms/step - loss: 0.3881\n",
            "Epoch 90/100\n",
            "5/5 [==============================] - 0s 7ms/step - loss: 0.3876\n",
            "Epoch 91/100\n",
            "5/5 [==============================] - 0s 5ms/step - loss: 0.3871\n",
            "Epoch 92/100\n",
            "5/5 [==============================] - 0s 12ms/step - loss: 0.3866\n",
            "Epoch 93/100\n",
            "5/5 [==============================] - 0s 13ms/step - loss: 0.3861\n",
            "Epoch 94/100\n",
            "5/5 [==============================] - 0s 15ms/step - loss: 0.3857\n",
            "Epoch 95/100\n",
            "5/5 [==============================] - 0s 16ms/step - loss: 0.3852\n",
            "Epoch 96/100\n",
            "5/5 [==============================] - 0s 15ms/step - loss: 0.3847\n",
            "Epoch 97/100\n",
            "5/5 [==============================] - 0s 17ms/step - loss: 0.3842\n",
            "Epoch 98/100\n",
            "5/5 [==============================] - 0s 17ms/step - loss: 0.3838\n",
            "Epoch 99/100\n",
            "5/5 [==============================] - 0s 10ms/step - loss: 0.3833\n",
            "Epoch 100/100\n",
            "5/5 [==============================] - 0s 18ms/step - loss: 0.3829\n"
          ]
        },
        {
          "output_type": "execute_result",
          "data": {
            "text/plain": [
              "<keras.callbacks.History at 0x7fe8ddcfceb0>"
            ]
          },
          "metadata": {},
          "execution_count": 15
        }
      ]
    },
    {
      "cell_type": "markdown",
      "metadata": {
        "id": "2ThCJDBtc2I5"
      },
      "source": [
        "Q3. Compute accuracy by implementing your own function. "
      ]
    },
    {
      "cell_type": "code",
      "metadata": {
        "id": "-80e1aP7dhDy",
        "colab": {
          "base_uri": "https://localhost:8080/"
        },
        "outputId": "510a8dc6-bc09-4a8c-a56e-ae1759e93132"
      },
      "source": [
        "y_preds = perceptron.predict(X_test)\n",
        "y_preds = np.round(y_preds, 0)"
      ],
      "execution_count": null,
      "outputs": [
        {
          "output_type": "stream",
          "name": "stdout",
          "text": [
            "2/2 [==============================] - 0s 6ms/step\n"
          ]
        }
      ]
    },
    {
      "cell_type": "code",
      "metadata": {
        "id": "cmCveopbdgGT"
      },
      "source": [
        "### Build your own function to calculate accuracy###\n",
        "def accuracy(y, y_preds):\n",
        "    tp, fp, tn, fn = 0, 0, 0 ,0\n",
        "    for i in range(len(y_preds)):\n",
        "        if y_preds[i] == y[i] and y_preds[i] == 1:\n",
        "            tp += 1\n",
        "        elif y_preds[i] != y[i] and y_preds[i] == 1:\n",
        "            fp += 1\n",
        "        elif y_preds[i] == y[i] and y_preds[i] == 0:\n",
        "            tn += 1\n",
        "        else:\n",
        "            fn += 1\n",
        "    return (tp+tn)/(tp+tn+fn+fp)"
      ],
      "execution_count": null,
      "outputs": []
    },
    {
      "cell_type": "code",
      "metadata": {
        "id": "wPvMXn8sfBFe",
        "colab": {
          "base_uri": "https://localhost:8080/"
        },
        "outputId": "562acf80-e6f8-43aa-b130-7f550a32f6ef"
      },
      "source": [
        "print(f'The accuracy is: {accuracy(y_test, y_preds)}')"
      ],
      "execution_count": null,
      "outputs": [
        {
          "output_type": "stream",
          "name": "stdout",
          "text": [
            "The accuracy is: 0.825\n"
          ]
        }
      ]
    },
    {
      "cell_type": "code",
      "metadata": {
        "id": "1L_NWfFz_gub",
        "colab": {
          "base_uri": "https://localhost:8080/",
          "height": 664
        },
        "outputId": "79123b3f-44b4-4565-fb26-4f6e89486afc"
      },
      "source": [
        "from utils import visualize_2d_classification\n",
        "f, ax = visualize_2d_classification(perceptron, X_train, y_train)\n",
        "ax.set_ylabel(\"Train\")\n",
        "f, ax = visualize_2d_classification(perceptron, X_test, y_test)\n",
        "ax.set_ylabel(\"Test\")"
      ],
      "execution_count": null,
      "outputs": [
        {
          "output_type": "stream",
          "name": "stdout",
          "text": [
            "77/77 [==============================] - 0s 1ms/step\n",
            "77/77 [==============================] - 0s 2ms/step\n",
            "67/67 [==============================] - 0s 2ms/step\n",
            "67/67 [==============================] - 0s 1ms/step\n"
          ]
        },
        {
          "output_type": "execute_result",
          "data": {
            "text/plain": [
              "Text(18.75, 0.5, 'Test')"
            ]
          },
          "metadata": {},
          "execution_count": 19
        },
        {
          "output_type": "display_data",
          "data": {
            "text/plain": [
              "<Figure size 432x288 with 1 Axes>"
            ],
            "image/png": "[encoded data removed]"
          },
          "metadata": {
            "needs_background": "light"
          }
        },
        {
          "output_type": "display_data",
          "data": {
            "text/plain": [
              "<Figure size 432x288 with 1 Axes>"
            ],
            "image/png": "[encoded data removed]"
          },
          "metadata": {
            "needs_background": "light"
          }
        }
      ]
    },
    {
      "cell_type": "markdown",
      "metadata": {
        "id": "we3xmMhp_gub"
      },
      "source": [
        "Recall that a perceptron is nothing more than a linear classifier, which is trying to separate our data using a line. It turns out that the introduction of hidden layers allows us to draw \"lines\" in higher dimensions, which, when mapped back into our original 2d space,  may look nonlinear."
      ]
    },
    {
      "cell_type": "markdown",
      "metadata": {
        "id": "0x5MFXii_gub"
      },
      "source": [
        "# Exercise 2:\n",
        "\n",
        "For this exercise, use Keras to create a 2-layer neural network by completing build_one_output_model(). We will then add one hidden layer of 2 units and an output layer of 1 unit (corresponding to our classes- sometimes referred to as a \"readout\" layer). \n",
        "\n",
        "The model has already been initialized and the optimizer and loss function have been defined for you.\n",
        "\n",
        "For your intermediate layers, use \"relu\" as the activation function, and \"sigmoid\" (as the demo above) for your output layer."
      ]
    },
    {
      "cell_type": "code",
      "metadata": {
        "id": "bs9rWhZg_gub"
      },
      "source": [
        "# Keras uses the Sequential model for linear stacking of layers.\n",
        "# That is, creating a neural network is as easy as (later)\n",
        "# defining the layers!\n",
        "from keras.models import Sequential\n",
        "# Everything we've talked about in class so far is referred to in\n",
        "# Keras as a \"dense\" connection between layers, where every input\n",
        "# unit connects to a unit in the next layer\n",
        "\n",
        "from keras.layers import Dense\n",
        "# SGD is the learning algorithm we will use\n",
        "from tensorflow.keras.optimizers import SGD\n",
        "from keras.layers import Dense, Dropout\n",
        "from sklearn.linear_model import LogisticRegression\n",
        "from sklearn.ensemble import RandomForestClassifier\n",
        "from sklearn.model_selection import GridSearchCV"
      ],
      "execution_count": null,
      "outputs": []
    },
    {
      "cell_type": "markdown",
      "metadata": {
        "id": "PmWa5rLoTtWk"
      },
      "source": [
        "Q1. Create a 2 layer neural network by completing build_one_output_model()."
      ]
    },
    {
      "cell_type": "code",
      "metadata": {
        "id": "KtqwyMuB_gub"
      },
      "source": [
        "def build_one_output_model():\n",
        "    model = Sequential()\n",
        "\n",
        "    ### YOUR CODE HERE ###\n",
        "    # Add a input hidden layer with 2 units \n",
        "    model.add(\n",
        "        Dense(2, input_dim=X_train.shape[1], activation='relu')\n",
        "    )\n",
        "\n",
        "    # Add a final output layer with 1 unit \n",
        "    model.add(\n",
        "        Dense(1, activation='sigmoid')\n",
        "    )\n",
        "    \n",
        "\n",
        "    # Specify SGD optimizer with appropriate values in learning_rate, decay and momentum.\n",
        "    sgd = SGD(learning_rate=0.001, decay=1e-7, momentum=.9)  # Stochastic gradient descent\n",
        "\n",
        "\n",
        "    # compile the model with \"binary_crossentropy\" loss and SGD optimizer. \n",
        "    model.compile(loss=\"binary_crossentropy\", optimizer=sgd)\n",
        "\n",
        "    return model\n"
      ],
      "execution_count": null,
      "outputs": []
    },
    {
      "cell_type": "code",
      "metadata": {
        "id": "brjdknPHCkrI"
      },
      "source": [
        "model = build_one_output_model()"
      ],
      "execution_count": null,
      "outputs": []
    },
    {
      "cell_type": "markdown",
      "metadata": {
        "id": "N3FpfAjlX6YU"
      },
      "source": [
        "Q2. Fit your model by training set with appropriate epochs and batch_size."
      ]
    },
    {
      "cell_type": "code",
      "metadata": {
        "id": "p2opOllvX6YU",
        "colab": {
          "base_uri": "https://localhost:8080/"
        },
        "outputId": "9195b0bd-023d-40b5-aa0c-36952e3c9a89"
      },
      "source": [
        "### YOUR CODE HERE ###\n",
        "model.fit(X_train, y_train, batch_size = 32, epochs = 100)"
      ],
      "execution_count": null,
      "outputs": [
        {
          "output_type": "stream",
          "name": "stdout",
          "text": [
            "Epoch 1/100\n",
            "5/5 [==============================] - 0s 3ms/step - loss: 0.5316\n",
            "Epoch 2/100\n",
            "5/5 [==============================] - 0s 3ms/step - loss: 0.5298\n",
            "Epoch 3/100\n",
            "5/5 [==============================] - 0s 3ms/step - loss: 0.5280\n",
            "Epoch 4/100\n",
            "5/5 [==============================] - 0s 3ms/step - loss: 0.5264\n",
            "Epoch 5/100\n",
            "5/5 [==============================] - 0s 4ms/step - loss: 0.5245\n",
            "Epoch 6/100\n",
            "5/5 [==============================] - 0s 4ms/step - loss: 0.5228\n",
            "Epoch 7/100\n",
            "5/5 [==============================] - 0s 4ms/step - loss: 0.5210\n",
            "Epoch 8/100\n",
            "5/5 [==============================] - 0s 4ms/step - loss: 0.5194\n",
            "Epoch 9/100\n",
            "5/5 [==============================] - 0s 3ms/step - loss: 0.5176\n",
            "Epoch 10/100\n",
            "5/5 [==============================] - 0s 3ms/step - loss: 0.5160\n",
            "Epoch 11/100\n",
            "5/5 [==============================] - 0s 3ms/step - loss: 0.5142\n",
            "Epoch 12/100\n",
            "5/5 [==============================] - 0s 5ms/step - loss: 0.5126\n",
            "Epoch 13/100\n",
            "5/5 [==============================] - 0s 3ms/step - loss: 0.5109\n",
            "Epoch 14/100\n",
            "5/5 [==============================] - 0s 3ms/step - loss: 0.5093\n",
            "Epoch 15/100\n",
            "5/5 [==============================] - 0s 3ms/step - loss: 0.5077\n",
            "Epoch 16/100\n",
            "5/5 [==============================] - 0s 5ms/step - loss: 0.5060\n",
            "Epoch 17/100\n",
            "5/5 [==============================] - 0s 3ms/step - loss: 0.5044\n",
            "Epoch 18/100\n",
            "5/5 [==============================] - 0s 3ms/step - loss: 0.5027\n",
            "Epoch 19/100\n",
            "5/5 [==============================] - 0s 3ms/step - loss: 0.5011\n",
            "Epoch 20/100\n",
            "5/5 [==============================] - 0s 4ms/step - loss: 0.4995\n",
            "Epoch 21/100\n",
            "5/5 [==============================] - 0s 3ms/step - loss: 0.4979\n",
            "Epoch 22/100\n",
            "5/5 [==============================] - 0s 4ms/step - loss: 0.4964\n",
            "Epoch 23/100\n",
            "5/5 [==============================] - 0s 3ms/step - loss: 0.4948\n",
            "Epoch 24/100\n",
            "5/5 [==============================] - 0s 3ms/step - loss: 0.4933\n",
            "Epoch 25/100\n",
            "5/5 [==============================] - 0s 3ms/step - loss: 0.4917\n",
            "Epoch 26/100\n",
            "5/5 [==============================] - 0s 3ms/step - loss: 0.4903\n",
            "Epoch 27/100\n",
            "5/5 [==============================] - 0s 3ms/step - loss: 0.4889\n",
            "Epoch 28/100\n",
            "5/5 [==============================] - 0s 4ms/step - loss: 0.4873\n",
            "Epoch 29/100\n",
            "5/5 [==============================] - 0s 3ms/step - loss: 0.4859\n",
            "Epoch 30/100\n",
            "5/5 [==============================] - 0s 4ms/step - loss: 0.4844\n",
            "Epoch 31/100\n",
            "5/5 [==============================] - 0s 3ms/step - loss: 0.4831\n",
            "Epoch 32/100\n",
            "5/5 [==============================] - 0s 3ms/step - loss: 0.4815\n",
            "Epoch 33/100\n",
            "5/5 [==============================] - 0s 3ms/step - loss: 0.4802\n",
            "Epoch 34/100\n",
            "5/5 [==============================] - 0s 3ms/step - loss: 0.4788\n",
            "Epoch 35/100\n",
            "5/5 [==============================] - 0s 3ms/step - loss: 0.4774\n",
            "Epoch 36/100\n",
            "5/5 [==============================] - 0s 3ms/step - loss: 0.4760\n",
            "Epoch 37/100\n",
            "5/5 [==============================] - 0s 3ms/step - loss: 0.4746\n",
            "Epoch 38/100\n",
            "5/5 [==============================] - 0s 3ms/step - loss: 0.4733\n",
            "Epoch 39/100\n",
            "5/5 [==============================] - 0s 4ms/step - loss: 0.4720\n",
            "Epoch 40/100\n",
            "5/5 [==============================] - 0s 3ms/step - loss: 0.4706\n",
            "Epoch 41/100\n",
            "5/5 [==============================] - 0s 3ms/step - loss: 0.4692\n",
            "Epoch 42/100\n",
            "5/5 [==============================] - 0s 3ms/step - loss: 0.4679\n",
            "Epoch 43/100\n",
            "5/5 [==============================] - 0s 3ms/step - loss: 0.4666\n",
            "Epoch 44/100\n",
            "5/5 [==============================] - 0s 3ms/step - loss: 0.4653\n",
            "Epoch 45/100\n",
            "5/5 [==============================] - 0s 3ms/step - loss: 0.4639\n",
            "Epoch 46/100\n",
            "5/5 [==============================] - 0s 3ms/step - loss: 0.4627\n",
            "Epoch 47/100\n",
            "5/5 [==============================] - 0s 3ms/step - loss: 0.4614\n",
            "Epoch 48/100\n",
            "5/5 [==============================] - 0s 3ms/step - loss: 0.4602\n",
            "Epoch 49/100\n",
            "5/5 [==============================] - 0s 4ms/step - loss: 0.4589\n",
            "Epoch 50/100\n",
            "5/5 [==============================] - 0s 3ms/step - loss: 0.4576\n",
            "Epoch 51/100\n",
            "5/5 [==============================] - 0s 3ms/step - loss: 0.4564\n",
            "Epoch 52/100\n",
            "5/5 [==============================] - 0s 4ms/step - loss: 0.4552\n",
            "Epoch 53/100\n",
            "5/5 [==============================] - 0s 3ms/step - loss: 0.4539\n",
            "Epoch 54/100\n",
            "5/5 [==============================] - 0s 3ms/step - loss: 0.4527\n",
            "Epoch 55/100\n",
            "5/5 [==============================] - 0s 3ms/step - loss: 0.4516\n",
            "Epoch 56/100\n",
            "5/5 [==============================] - 0s 3ms/step - loss: 0.4504\n",
            "Epoch 57/100\n",
            "5/5 [==============================] - 0s 3ms/step - loss: 0.4492\n",
            "Epoch 58/100\n",
            "5/5 [==============================] - 0s 3ms/step - loss: 0.4480\n",
            "Epoch 59/100\n",
            "5/5 [==============================] - 0s 2ms/step - loss: 0.4469\n",
            "Epoch 60/100\n",
            "5/5 [==============================] - 0s 3ms/step - loss: 0.4457\n",
            "Epoch 61/100\n",
            "5/5 [==============================] - 0s 3ms/step - loss: 0.4446\n",
            "Epoch 62/100\n",
            "5/5 [==============================] - 0s 3ms/step - loss: 0.4434\n",
            "Epoch 63/100\n",
            "5/5 [==============================] - 0s 3ms/step - loss: 0.4423\n",
            "Epoch 64/100\n",
            "5/5 [==============================] - 0s 3ms/step - loss: 0.4412\n",
            "Epoch 65/100\n",
            "5/5 [==============================] - 0s 4ms/step - loss: 0.4402\n",
            "Epoch 66/100\n",
            "5/5 [==============================] - 0s 3ms/step - loss: 0.4390\n",
            "Epoch 67/100\n",
            "5/5 [==============================] - 0s 3ms/step - loss: 0.4380\n",
            "Epoch 68/100\n",
            "5/5 [==============================] - 0s 4ms/step - loss: 0.4369\n",
            "Epoch 69/100\n",
            "5/5 [==============================] - 0s 3ms/step - loss: 0.4359\n",
            "Epoch 70/100\n",
            "5/5 [==============================] - 0s 4ms/step - loss: 0.4348\n",
            "Epoch 71/100\n",
            "5/5 [==============================] - 0s 3ms/step - loss: 0.4338\n",
            "Epoch 72/100\n",
            "5/5 [==============================] - 0s 3ms/step - loss: 0.4328\n",
            "Epoch 73/100\n",
            "5/5 [==============================] - 0s 3ms/step - loss: 0.4317\n",
            "Epoch 74/100\n",
            "5/5 [==============================] - 0s 3ms/step - loss: 0.4307\n",
            "Epoch 75/100\n",
            "5/5 [==============================] - 0s 3ms/step - loss: 0.4298\n",
            "Epoch 76/100\n",
            "5/5 [==============================] - 0s 3ms/step - loss: 0.4288\n",
            "Epoch 77/100\n",
            "5/5 [==============================] - 0s 3ms/step - loss: 0.4279\n",
            "Epoch 78/100\n",
            "5/5 [==============================] - 0s 3ms/step - loss: 0.4269\n",
            "Epoch 79/100\n",
            "5/5 [==============================] - 0s 3ms/step - loss: 0.4259\n",
            "Epoch 80/100\n",
            "5/5 [==============================] - 0s 4ms/step - loss: 0.4250\n",
            "Epoch 81/100\n",
            "5/5 [==============================] - 0s 4ms/step - loss: 0.4241\n",
            "Epoch 82/100\n",
            "5/5 [==============================] - 0s 3ms/step - loss: 0.4231\n",
            "Epoch 83/100\n",
            "5/5 [==============================] - 0s 3ms/step - loss: 0.4222\n",
            "Epoch 84/100\n",
            "5/5 [==============================] - 0s 3ms/step - loss: 0.4213\n",
            "Epoch 85/100\n",
            "5/5 [==============================] - 0s 5ms/step - loss: 0.4204\n",
            "Epoch 86/100\n",
            "5/5 [==============================] - 0s 3ms/step - loss: 0.4196\n",
            "Epoch 87/100\n",
            "5/5 [==============================] - 0s 3ms/step - loss: 0.4186\n",
            "Epoch 88/100\n",
            "5/5 [==============================] - 0s 3ms/step - loss: 0.4178\n",
            "Epoch 89/100\n",
            "5/5 [==============================] - 0s 3ms/step - loss: 0.4169\n",
            "Epoch 90/100\n",
            "5/5 [==============================] - 0s 3ms/step - loss: 0.4160\n",
            "Epoch 91/100\n",
            "5/5 [==============================] - 0s 3ms/step - loss: 0.4152\n",
            "Epoch 92/100\n",
            "5/5 [==============================] - 0s 3ms/step - loss: 0.4143\n",
            "Epoch 93/100\n",
            "5/5 [==============================] - 0s 3ms/step - loss: 0.4135\n",
            "Epoch 94/100\n",
            "5/5 [==============================] - 0s 3ms/step - loss: 0.4127\n",
            "Epoch 95/100\n",
            "5/5 [==============================] - 0s 3ms/step - loss: 0.4118\n",
            "Epoch 96/100\n",
            "5/5 [==============================] - 0s 3ms/step - loss: 0.4110\n",
            "Epoch 97/100\n",
            "5/5 [==============================] - 0s 3ms/step - loss: 0.4102\n",
            "Epoch 98/100\n",
            "5/5 [==============================] - 0s 3ms/step - loss: 0.4094\n",
            "Epoch 99/100\n",
            "5/5 [==============================] - 0s 3ms/step - loss: 0.4086\n",
            "Epoch 100/100\n",
            "5/5 [==============================] - 0s 3ms/step - loss: 0.4078\n"
          ]
        },
        {
          "output_type": "execute_result",
          "data": {
            "text/plain": [
              "<keras.callbacks.History at 0x7fe8d966eac0>"
            ]
          },
          "metadata": {},
          "execution_count": 25
        }
      ]
    },
    {
      "cell_type": "markdown",
      "metadata": {
        "id": "tcsMH0cqVOkf"
      },
      "source": [
        "Q3. Compute accuracy by using your own function."
      ]
    },
    {
      "cell_type": "code",
      "metadata": {
        "id": "MZblWvclVoYs",
        "colab": {
          "base_uri": "https://localhost:8080/"
        },
        "outputId": "2f0f1b95-9e95-4855-a60c-5020ed369151"
      },
      "source": [
        "### YOUR CODE HERE ###\n",
        "y_preds = model.predict(X_test)\n",
        "y_preds = np.round(y_preds, 0)\n",
        "print(f'The accuracy is: {accuracy(y_test, y_preds)}')"
      ],
      "execution_count": null,
      "outputs": [
        {
          "output_type": "stream",
          "name": "stdout",
          "text": [
            "2/2 [==============================] - 0s 5ms/step\n",
            "The accuracy is: 0.85\n"
          ]
        }
      ]
    },
    {
      "cell_type": "code",
      "metadata": {
        "id": "rIycnAjv_gub",
        "colab": {
          "base_uri": "https://localhost:8080/",
          "height": 664
        },
        "outputId": "08a44f76-9723-43b1-fb21-5cfb9a522825"
      },
      "source": [
        "# And visualize how your model did\n",
        "f, ax = visualize_2d_classification(model, X_train, y_train)\n",
        "ax.set_ylabel(\"Train\")\n",
        "f, ax = visualize_2d_classification(model, X_test, y_test)\n",
        "ax.set_ylabel(\"Test\")\n"
      ],
      "execution_count": null,
      "outputs": [
        {
          "output_type": "stream",
          "name": "stdout",
          "text": [
            "77/77 [==============================] - 0s 4ms/step\n",
            "77/77 [==============================] - 0s 5ms/step\n",
            "67/67 [==============================] - 0s 2ms/step\n",
            "67/67 [==============================] - 0s 3ms/step\n"
          ]
        },
        {
          "output_type": "execute_result",
          "data": {
            "text/plain": [
              "Text(18.75, 0.5, 'Test')"
            ]
          },
          "metadata": {},
          "execution_count": 27
        },
        {
          "output_type": "display_data",
          "data": {
            "text/plain": [
              "<Figure size 432x288 with 1 Axes>"
            ],
            "image/png": "[encoded data removed]"
          },
          "metadata": {
            "needs_background": "light"
          }
        },
        {
          "output_type": "display_data",
          "data": {
            "text/plain": [
              "<Figure size 432x288 with 1 Axes>"
            ],
            "image/png": "[encoded data removed]"
          },
          "metadata": {
            "needs_background": "light"
          }
        }
      ]
    },
    {
      "cell_type": "markdown",
      "metadata": {
        "id": "ey0k0RJg_gub"
      },
      "source": [
        "It is actually quite rare for a classification neural network to have a single output unit as we've implemented above. Usually we have a $k$ unit output layer, where $k$ is the number of classes. This is typically done because when combined with the \"softmax\" activation function , the activity of each unit corresponds with the probability of that class. This allows us to easily extend to multiclass classification.\n",
        "\n",
        "Now we will still work with two units, but map them to two output units rather than 1. class 0 will be [1, 0], and class 1 will be [0, 1]. This operation is referred to as \"one hot encoding\". "
      ]
    },
    {
      "cell_type": "code",
      "metadata": {
        "id": "Mt9iaP75_gub"
      },
      "source": [
        "# Before we can fit the network, we need to one-hot vectorize our response.\n",
        "# There is a keras method for that.\n",
        "from tensorflow.keras.utils import to_categorical\n",
        "\n",
        "y_train_vectorized = to_categorical(y_train)"
      ],
      "execution_count": null,
      "outputs": []
    },
    {
      "cell_type": "code",
      "metadata": {
        "colab": {
          "base_uri": "https://localhost:8080/"
        },
        "id": "okTn-Pgd_gub",
        "outputId": "5229a2e5-650b-4e75-a876-fc301fef8619"
      },
      "source": [
        "print(\"Label | One-hot\")\n",
        "for i in range(10):\n",
        "    print(\"{} | {}\".format(y_train[i], y_train_vectorized[i]))"
      ],
      "execution_count": null,
      "outputs": [
        {
          "output_type": "stream",
          "name": "stdout",
          "text": [
            "Label | One-hot\n",
            "0 | [1. 0.]\n",
            "0 | [1. 0.]\n",
            "0 | [1. 0.]\n",
            "1 | [0. 1.]\n",
            "1 | [0. 1.]\n",
            "0 | [1. 0.]\n",
            "0 | [1. 0.]\n",
            "0 | [1. 0.]\n",
            "0 | [1. 0.]\n",
            "0 | [1. 0.]\n"
          ]
        }
      ]
    },
    {
      "cell_type": "markdown",
      "metadata": {
        "id": "c-EYtOTw_gub"
      },
      "source": [
        "The one hot encoded vectors will serve as future labels for our models. \n",
        "\n",
        "# Exercise 3: \n",
        "\n",
        "Q1.Implement build_classification_model() that returns a sequential model that takes an input of size 2, passes it to a hidden layer of size 10, then a hidden layer of size 5, then a readout layer of size 2. \n",
        "\n",
        "\n",
        "As before, use the \"relu\" activation function for hidden layers, but since we have multiple output units, use the \"softmax\" activation for the final layer.\n",
        "\n",
        "We use SGD optimizer and \"categorical_crossentropy\" loss function to compile the model."
      ]
    },
    {
      "cell_type": "code",
      "metadata": {
        "id": "1u8Vfx1K_gub"
      },
      "source": [
        "def build_classification_model():\n",
        "    model = Sequential()\n",
        "\n",
        "    ### YOUR CODE HERE ###\n",
        "    model.add(Dense(10, input_dim = X_train.shape[1], activation = 'relu'))\n",
        "    model.add(Dense(5, input_dim = X_train.shape[1], activation = 'relu'))\n",
        "    model.add(Dense(2, input_dim = X_train.shape[1], activation = 'softmax'))\n",
        "    \n",
        "    sgd = SGD(learning_rate = 0.001, decay = 1e-7, momentum = 0.9)\n",
        "    \n",
        "    model.compile(loss=\"categorical_crossentropy\", optimizer=sgd)\n",
        "    \n",
        "    return model"
      ],
      "execution_count": null,
      "outputs": []
    },
    {
      "cell_type": "code",
      "metadata": {
        "id": "EvJRSL7H_gub"
      },
      "source": [
        "model = build_classification_model()"
      ],
      "execution_count": null,
      "outputs": []
    },
    {
      "cell_type": "markdown",
      "metadata": {
        "id": "o9skzqVn_gub"
      },
      "source": [
        "Q2. Fit your model by training set"
      ]
    },
    {
      "cell_type": "code",
      "metadata": {
        "id": "ZNskvvFL_gub",
        "scrolled": true,
        "colab": {
          "base_uri": "https://localhost:8080/"
        },
        "outputId": "71e9a466-f7b4-4075-b787-02051c7004c7"
      },
      "source": [
        "### YOUR CODE HERE ###\n",
        "model.fit(X_train, y_train_vectorized, batch_size = 32, epochs = 100)"
      ],
      "execution_count": null,
      "outputs": [
        {
          "output_type": "stream",
          "name": "stdout",
          "text": [
            "Epoch 1/100\n",
            "5/5 [==============================] - 0s 3ms/step - loss: 0.6119\n",
            "Epoch 2/100\n",
            "5/5 [==============================] - 0s 4ms/step - loss: 0.6086\n",
            "Epoch 3/100\n",
            "5/5 [==============================] - 0s 3ms/step - loss: 0.6036\n",
            "Epoch 4/100\n",
            "5/5 [==============================] - 0s 3ms/step - loss: 0.5977\n",
            "Epoch 5/100\n",
            "5/5 [==============================] - 0s 3ms/step - loss: 0.5912\n",
            "Epoch 6/100\n",
            "5/5 [==============================] - 0s 3ms/step - loss: 0.5846\n",
            "Epoch 7/100\n",
            "5/5 [==============================] - 0s 3ms/step - loss: 0.5785\n",
            "Epoch 8/100\n",
            "5/5 [==============================] - 0s 3ms/step - loss: 0.5729\n",
            "Epoch 9/100\n",
            "5/5 [==============================] - 0s 4ms/step - loss: 0.5672\n",
            "Epoch 10/100\n",
            "5/5 [==============================] - 0s 3ms/step - loss: 0.5622\n",
            "Epoch 11/100\n",
            "5/5 [==============================] - 0s 3ms/step - loss: 0.5568\n",
            "Epoch 12/100\n",
            "5/5 [==============================] - 0s 4ms/step - loss: 0.5521\n",
            "Epoch 13/100\n",
            "5/5 [==============================] - 0s 5ms/step - loss: 0.5472\n",
            "Epoch 14/100\n",
            "5/5 [==============================] - 0s 4ms/step - loss: 0.5425\n",
            "Epoch 15/100\n",
            "5/5 [==============================] - 0s 3ms/step - loss: 0.5381\n",
            "Epoch 16/100\n",
            "5/5 [==============================] - 0s 3ms/step - loss: 0.5336\n",
            "Epoch 17/100\n",
            "5/5 [==============================] - 0s 4ms/step - loss: 0.5295\n",
            "Epoch 18/100\n",
            "5/5 [==============================] - 0s 3ms/step - loss: 0.5251\n",
            "Epoch 19/100\n",
            "5/5 [==============================] - 0s 4ms/step - loss: 0.5211\n",
            "Epoch 20/100\n",
            "5/5 [==============================] - 0s 4ms/step - loss: 0.5171\n",
            "Epoch 21/100\n",
            "5/5 [==============================] - 0s 4ms/step - loss: 0.5131\n",
            "Epoch 22/100\n",
            "5/5 [==============================] - 0s 3ms/step - loss: 0.5092\n",
            "Epoch 23/100\n",
            "5/5 [==============================] - 0s 3ms/step - loss: 0.5052\n",
            "Epoch 24/100\n",
            "5/5 [==============================] - 0s 3ms/step - loss: 0.5015\n",
            "Epoch 25/100\n",
            "5/5 [==============================] - 0s 3ms/step - loss: 0.4975\n",
            "Epoch 26/100\n",
            "5/5 [==============================] - 0s 4ms/step - loss: 0.4938\n",
            "Epoch 27/100\n",
            "5/5 [==============================] - 0s 4ms/step - loss: 0.4900\n",
            "Epoch 28/100\n",
            "5/5 [==============================] - 0s 4ms/step - loss: 0.4864\n",
            "Epoch 29/100\n",
            "5/5 [==============================] - 0s 3ms/step - loss: 0.4825\n",
            "Epoch 30/100\n",
            "5/5 [==============================] - 0s 3ms/step - loss: 0.4787\n",
            "Epoch 31/100\n",
            "5/5 [==============================] - 0s 5ms/step - loss: 0.4749\n",
            "Epoch 32/100\n",
            "5/5 [==============================] - 0s 3ms/step - loss: 0.4710\n",
            "Epoch 33/100\n",
            "5/5 [==============================] - 0s 4ms/step - loss: 0.4672\n",
            "Epoch 34/100\n",
            "5/5 [==============================] - 0s 3ms/step - loss: 0.4633\n",
            "Epoch 35/100\n",
            "5/5 [==============================] - 0s 3ms/step - loss: 0.4596\n",
            "Epoch 36/100\n",
            "5/5 [==============================] - 0s 3ms/step - loss: 0.4556\n",
            "Epoch 37/100\n",
            "5/5 [==============================] - 0s 4ms/step - loss: 0.4521\n",
            "Epoch 38/100\n",
            "5/5 [==============================] - 0s 3ms/step - loss: 0.4486\n",
            "Epoch 39/100\n",
            "5/5 [==============================] - 0s 3ms/step - loss: 0.4448\n",
            "Epoch 40/100\n",
            "5/5 [==============================] - 0s 3ms/step - loss: 0.4412\n",
            "Epoch 41/100\n",
            "5/5 [==============================] - 0s 3ms/step - loss: 0.4377\n",
            "Epoch 42/100\n",
            "5/5 [==============================] - 0s 4ms/step - loss: 0.4343\n",
            "Epoch 43/100\n",
            "5/5 [==============================] - 0s 3ms/step - loss: 0.4308\n",
            "Epoch 44/100\n",
            "5/5 [==============================] - 0s 3ms/step - loss: 0.4276\n",
            "Epoch 45/100\n",
            "5/5 [==============================] - 0s 3ms/step - loss: 0.4242\n",
            "Epoch 46/100\n",
            "5/5 [==============================] - 0s 3ms/step - loss: 0.4209\n",
            "Epoch 47/100\n",
            "5/5 [==============================] - 0s 3ms/step - loss: 0.4178\n",
            "Epoch 48/100\n",
            "5/5 [==============================] - 0s 3ms/step - loss: 0.4147\n",
            "Epoch 49/100\n",
            "5/5 [==============================] - 0s 2ms/step - loss: 0.4115\n",
            "Epoch 50/100\n",
            "5/5 [==============================] - 0s 3ms/step - loss: 0.4086\n",
            "Epoch 51/100\n",
            "5/5 [==============================] - 0s 3ms/step - loss: 0.4056\n",
            "Epoch 52/100\n",
            "5/5 [==============================] - 0s 3ms/step - loss: 0.4028\n",
            "Epoch 53/100\n",
            "5/5 [==============================] - 0s 3ms/step - loss: 0.3998\n",
            "Epoch 54/100\n",
            "5/5 [==============================] - 0s 3ms/step - loss: 0.3972\n",
            "Epoch 55/100\n",
            "5/5 [==============================] - 0s 3ms/step - loss: 0.3942\n",
            "Epoch 56/100\n",
            "5/5 [==============================] - 0s 3ms/step - loss: 0.3914\n",
            "Epoch 57/100\n",
            "5/5 [==============================] - 0s 3ms/step - loss: 0.3888\n",
            "Epoch 58/100\n",
            "5/5 [==============================] - 0s 3ms/step - loss: 0.3861\n",
            "Epoch 59/100\n",
            "5/5 [==============================] - 0s 3ms/step - loss: 0.3834\n",
            "Epoch 60/100\n",
            "5/5 [==============================] - 0s 3ms/step - loss: 0.3810\n",
            "Epoch 61/100\n",
            "5/5 [==============================] - 0s 3ms/step - loss: 0.3783\n",
            "Epoch 62/100\n",
            "5/5 [==============================] - 0s 3ms/step - loss: 0.3758\n",
            "Epoch 63/100\n",
            "5/5 [==============================] - 0s 3ms/step - loss: 0.3735\n",
            "Epoch 64/100\n",
            "5/5 [==============================] - 0s 3ms/step - loss: 0.3713\n",
            "Epoch 65/100\n",
            "5/5 [==============================] - 0s 3ms/step - loss: 0.3688\n",
            "Epoch 66/100\n",
            "5/5 [==============================] - 0s 3ms/step - loss: 0.3665\n",
            "Epoch 67/100\n",
            "5/5 [==============================] - 0s 3ms/step - loss: 0.3642\n",
            "Epoch 68/100\n",
            "5/5 [==============================] - 0s 3ms/step - loss: 0.3620\n",
            "Epoch 69/100\n",
            "5/5 [==============================] - 0s 2ms/step - loss: 0.3598\n",
            "Epoch 70/100\n",
            "5/5 [==============================] - 0s 3ms/step - loss: 0.3577\n",
            "Epoch 71/100\n",
            "5/5 [==============================] - 0s 3ms/step - loss: 0.3556\n",
            "Epoch 72/100\n",
            "5/5 [==============================] - 0s 3ms/step - loss: 0.3535\n",
            "Epoch 73/100\n",
            "5/5 [==============================] - 0s 3ms/step - loss: 0.3515\n",
            "Epoch 74/100\n",
            "5/5 [==============================] - 0s 3ms/step - loss: 0.3494\n",
            "Epoch 75/100\n",
            "5/5 [==============================] - 0s 3ms/step - loss: 0.3474\n",
            "Epoch 76/100\n",
            "5/5 [==============================] - 0s 3ms/step - loss: 0.3455\n",
            "Epoch 77/100\n",
            "5/5 [==============================] - 0s 3ms/step - loss: 0.3438\n",
            "Epoch 78/100\n",
            "5/5 [==============================] - 0s 3ms/step - loss: 0.3419\n",
            "Epoch 79/100\n",
            "5/5 [==============================] - 0s 3ms/step - loss: 0.3400\n",
            "Epoch 80/100\n",
            "5/5 [==============================] - 0s 3ms/step - loss: 0.3383\n",
            "Epoch 81/100\n",
            "5/5 [==============================] - 0s 4ms/step - loss: 0.3366\n",
            "Epoch 82/100\n",
            "5/5 [==============================] - 0s 3ms/step - loss: 0.3349\n",
            "Epoch 83/100\n",
            "5/5 [==============================] - 0s 3ms/step - loss: 0.3331\n",
            "Epoch 84/100\n",
            "5/5 [==============================] - 0s 4ms/step - loss: 0.3316\n",
            "Epoch 85/100\n",
            "5/5 [==============================] - 0s 3ms/step - loss: 0.3299\n",
            "Epoch 86/100\n",
            "5/5 [==============================] - 0s 3ms/step - loss: 0.3283\n",
            "Epoch 87/100\n",
            "5/5 [==============================] - 0s 3ms/step - loss: 0.3267\n",
            "Epoch 88/100\n",
            "5/5 [==============================] - 0s 3ms/step - loss: 0.3251\n",
            "Epoch 89/100\n",
            "5/5 [==============================] - 0s 3ms/step - loss: 0.3237\n",
            "Epoch 90/100\n",
            "5/5 [==============================] - 0s 3ms/step - loss: 0.3222\n",
            "Epoch 91/100\n",
            "5/5 [==============================] - 0s 3ms/step - loss: 0.3207\n",
            "Epoch 92/100\n",
            "5/5 [==============================] - 0s 3ms/step - loss: 0.3193\n",
            "Epoch 93/100\n",
            "5/5 [==============================] - 0s 3ms/step - loss: 0.3180\n",
            "Epoch 94/100\n",
            "5/5 [==============================] - 0s 3ms/step - loss: 0.3166\n",
            "Epoch 95/100\n",
            "5/5 [==============================] - 0s 3ms/step - loss: 0.3151\n",
            "Epoch 96/100\n",
            "5/5 [==============================] - 0s 3ms/step - loss: 0.3138\n",
            "Epoch 97/100\n",
            "5/5 [==============================] - 0s 3ms/step - loss: 0.3124\n",
            "Epoch 98/100\n",
            "5/5 [==============================] - 0s 3ms/step - loss: 0.3114\n",
            "Epoch 99/100\n",
            "5/5 [==============================] - 0s 3ms/step - loss: 0.3099\n",
            "Epoch 100/100\n",
            "5/5 [==============================] - 0s 3ms/step - loss: 0.3087\n"
          ]
        },
        {
          "output_type": "execute_result",
          "data": {
            "text/plain": [
              "<keras.callbacks.History at 0x7fe8d9621460>"
            ]
          },
          "metadata": {},
          "execution_count": 32
        }
      ]
    },
    {
      "cell_type": "markdown",
      "metadata": {
        "id": "mrG8fIEMYNRx"
      },
      "source": [
        "Q3. Compute accuracy by using your own function"
      ]
    },
    {
      "cell_type": "code",
      "metadata": {
        "id": "u6LqFaaAXsD1",
        "colab": {
          "base_uri": "https://localhost:8080/"
        },
        "outputId": "1c1691f6-5876-443a-cf2d-e9cbd2fd2d4b"
      },
      "source": [
        "y_preds = model.predict(X_test)[:,1]\n",
        "\n",
        "y_preds = np.round(y_preds, 0)\n",
        "\n",
        "print(f'The accuracy is: {accuracy(y_test, y_preds)}')"
      ],
      "execution_count": null,
      "outputs": [
        {
          "output_type": "stream",
          "name": "stdout",
          "text": [
            "2/2 [==============================] - 0s 6ms/step\n",
            "The accuracy is: 0.85\n"
          ]
        }
      ]
    },
    {
      "cell_type": "code",
      "metadata": {
        "id": "Kzz-p-3U_gub",
        "colab": {
          "base_uri": "https://localhost:8080/",
          "height": 664
        },
        "outputId": "c5aa2a25-7955-48b7-9ee3-13cb85344828"
      },
      "source": [
        "# And visualize how your model did\n",
        "f, ax = visualize_2d_classification(model, X_train, y_train)\n",
        "ax.set_ylabel(\"Train\")\n",
        "f, ax = visualize_2d_classification(model, X_test, y_test)\n",
        "ax.set_ylabel(\"Test\")"
      ],
      "execution_count": null,
      "outputs": [
        {
          "output_type": "stream",
          "name": "stdout",
          "text": [
            "77/77 [==============================] - 0s 1ms/step\n",
            "77/77 [==============================] - 0s 2ms/step\n",
            "67/67 [==============================] - 0s 1ms/step\n",
            "67/67 [==============================] - 0s 1ms/step\n"
          ]
        },
        {
          "output_type": "execute_result",
          "data": {
            "text/plain": [
              "Text(18.75, 0.5, 'Test')"
            ]
          },
          "metadata": {},
          "execution_count": 34
        },
        {
          "output_type": "display_data",
          "data": {
            "text/plain": [
              "<Figure size 432x288 with 1 Axes>"
            ],
            "image/png": "[encoded data removed]"
          },
          "metadata": {
            "needs_background": "light"
          }
        },
        {
          "output_type": "display_data",
          "data": {
            "text/plain": [
              "<Figure size 432x288 with 1 Axes>"
            ],
            "image/png": "[encoded data removed]"
          },
          "metadata": {
            "needs_background": "light"
          }
        }
      ]
    },
    {
      "cell_type": "markdown",
      "metadata": {
        "id": "JJN4QNxAX6YW"
      },
      "source": [
        "# Exercise 4:\n",
        "### Short answer-questions"
      ]
    },
    {
      "cell_type": "markdown",
      "metadata": {
        "id": "9VHQET2zX6YX"
      },
      "source": [
        "Q1. The learning rate is an important parameter for gradient descent. Please briefly describe a possible issue if we choose too high a learning rate for full batch gradient descent (GD). Also, please briefly describe a possible issue if we choose too high a learning\n",
        "rate for stochastic gradient descent (SGD), but is not a problem in the full batch setting.\n",
        "\n"
      ]
    },
    {
      "cell_type": "markdown",
      "metadata": {
        "id": "kFxMj4MNX6YX"
      },
      "source": [
        "Ans-\n",
        "\n",
        "*GD*: Because gradient descent is the process of taking successive steps in the direction of the local minimum, having too high of a learning rate can possibly lead to us jumping over the local minima (we overshoot). This can lead to osculations around the minimum or divergence.\n",
        "\n",
        "*SGD*: The key difference between SGD and GD is that GD takes the whole dataset into account while SGD computes the gradient using a single sample. The downside to SGD as compared to GD is that once it reaches close to the minimum value, it bounces around which gives us a good value for model parameters but is not optimal which can be solved by reducing the learning rate at each step. SGD also has a noisier convergence path to the minimum than GD as it is not calculating the actual gradient but an approximation."
      ]
    },
    {
      "cell_type": "markdown",
      "metadata": {
        "id": "OPqmEVRrX6YX"
      },
      "source": [
        "Q2. Please give an example in the data augmentation methods that is helpful for classifying images of dogs and cats, but not for classifying handwritten digit."
      ]
    },
    {
      "cell_type": "markdown",
      "metadata": {
        "id": "v8WvndXAX6YX"
      },
      "source": [
        "Ans- \n",
        "\n",
        "Data augmentation methods are techniques to increase the diversity of the training dataset by creating copies of the existing data and making small modifications to it. There are many different methods available, such as adding noise, cropping, rotation, saturation etc.\n",
        "\n",
        "For the particular case above, one data augmentation method that would be useful for dog/cat images and not handwritten digits is rotation.\n",
        "\n",
        "Rotating the image of dogs and cats does not change its classification type (i.e. whether it is a dog or cat image). However, for handwritten digit, rotating the image (for example rotating the image of '6' by 180 degrees changes it to a '9') might change its meaning and therefore its classification."
      ]
    },
    {
      "cell_type": "markdown",
      "metadata": {
        "id": "IKp7lEfgX6YX"
      },
      "source": [
        "Q3. Suppose we have the following two neural networks containing fully-connected layers only. \n",
        "<div>\n",
        "<img src=\"https://ucla.box.com/shared/static/kgninjcbqpztz680q47emsluvituw4ga.jpg\" width=\"300\"/>\n",
        "</div>\n",
        "Please give one advantage of A over B, and one advantage of B over A."
      ]
    },
    {
      "cell_type": "markdown",
      "metadata": {
        "id": "2o83GnTPX6YX"
      },
      "source": [
        "Ans-\n",
        "\n",
        "Advantage of A over B:\n",
        "- Less time consuming to implement (less computational heavy)\n",
        "- Lesser likelihood of overfitting\n",
        "- Allows for datasets with smaller number of observations\n",
        "\n",
        "Advantage of B over A:\n",
        "- Extra layer allows for non-linear transformations\n",
        "- Performance on training dataset is usually higher\n"
      ]
    },
    {
      "cell_type": "markdown",
      "metadata": {
        "id": "95TrKOZf_gub"
      },
      "source": [
        "# Exercise 5:\n",
        "\n",
        "Now let's revisit the classification problem (Dataset 1) in Homework 2. Build a neural network to predict the output in the default payment dataset. The architecture choice is up to you, but you are required to use Dense layers and dropout layers only.\n",
        "\n",
        "\"CreditDefault_training.csv\" has 3985 records. \n",
        "\n",
        "\"CreditDefault_Xtest.csv\" contains contains 1000 rows and 14 columns. This is the test set which only contains the features."
      ]
    },
    {
      "cell_type": "markdown",
      "metadata": {
        "id": "WoPuroUXT35G"
      },
      "source": [
        "Q1. Read the data<br/>\n",
        "- Apply standardization to continuous values<br/> \n",
        "- Convert categorical variables and the target \"default.payment.next.month\" into one-hot encodings. <br>\n",
        "- Split data into train and validation set<br/>"
      ]
    },
    {
      "cell_type": "code",
      "metadata": {
        "id": "60tBCgSw3iou"
      },
      "source": [
        "import numpy as np\n",
        "import pandas as pd\n",
        "import io"
      ],
      "execution_count": null,
      "outputs": []
    },
    {
      "cell_type": "code",
      "metadata": {
        "id": "JM2SfGESVByv",
        "colab": {
          "base_uri": "https://localhost:8080/",
          "height": 107
        },
        "outputId": "4d57acd1-b079-496f-9553-e620c0bda887"
      },
      "source": [
        "### YOUR CODE HERE ###\n",
        "from google.colab import files\n",
        "import io\n",
        "\n",
        "uploaded = files.upload()"
      ],
      "execution_count": null,
      "outputs": [
        {
          "output_type": "display_data",
          "data": {
            "text/plain": [
              "<IPython.core.display.HTML object>"
            ],
            "text/html": [
              "\n",
              "     <input type=\"file\" id=\"files-a9d8a24f-ee6f-4f99-9b53-dc9028e383b1\" name=\"files[]\" multiple disabled\n",
              "        style=\"border:none\" />\n",
              "     <output id=\"result-a9d8a24f-ee6f-4f99-9b53-dc9028e383b1\">\n",
              "      Upload widget is only available when the cell has been executed in the\n",
              "      current browser session. Please rerun this cell to enable.\n",
              "      </output>\n",
              "      <script>// Copyright 2017 Google LLC\n",
              "//\n",
              "// Licensed under the Apache License, Version 2.0 (the \"License\");\n",
              "// you may not use this file except in compliance with the License.\n",
              "// You may obtain a copy of the License at\n",
              "//\n",
              "//      http://www.apache.org/licenses/LICENSE-2.0\n",
              "//\n",
              "// Unless required by applicable law or agreed to in writing, software\n",
              "// distributed under the License is distributed on an \"AS IS\" BASIS,\n",
              "// WITHOUT WARRANTIES OR CONDITIONS OF ANY KIND, either express or implied.\n",
              "// See the License for the specific language governing permissions and\n",
              "// limitations under the License.\n",
              "\n",
              "/**\n",
              " * @fileoverview Helpers for google.colab Python module.\n",
              " */\n",
              "(function(scope) {\n",
              "function span(text, styleAttributes = {}) {\n",
              "  const element = document.createElement('span');\n",
              "  element.textContent = text;\n",
              "  for (const key of Object.keys(styleAttributes)) {\n",
              "    element.style[key] = styleAttributes[key];\n",
              "  }\n",
              "  return element;\n",
              "}\n",
              "\n",
              "// Max number of bytes which will be uploaded at a time.\n",
              "const MAX_PAYLOAD_SIZE = 100 * 1024;\n",
              "\n",
              "function _uploadFiles(inputId, outputId) {\n",
              "  const steps = uploadFilesStep(inputId, outputId);\n",
              "  const outputElement = document.getElementById(outputId);\n",
              "  // Cache steps on the outputElement to make it available for the next call\n",
              "  // to uploadFilesContinue from Python.\n",
              "  outputElement.steps = steps;\n",
              "\n",
              "  return _uploadFilesContinue(outputId);\n",
              "}\n",
              "\n",
              "// This is roughly an async generator (not supported in the browser yet),\n",
              "// where there are multiple asynchronous steps and the Python side is going\n",
              "// to poll for completion of each step.\n",
              "// This uses a Promise to block the python side on completion of each step,\n",
              "// then passes the result of the previous step as the input to the next step.\n",
              "function _uploadFilesContinue(outputId) {\n",
              "  const outputElement = document.getElementById(outputId);\n",
              "  const steps = outputElement.steps;\n",
              "\n",
              "  const next = steps.next(outputElement.lastPromiseValue);\n",
              "  return Promise.resolve(next.value.promise).then((value) => {\n",
              "    // Cache the last promise value to make it available to the next\n",
              "    // step of the generator.\n",
              "    outputElement.lastPromiseValue = value;\n",
              "    return next.value.response;\n",
              "  });\n",
              "}\n",
              "\n",
              "/**\n",
              " * Generator function which is called between each async step of the upload\n",
              " * process.\n",
              " * @param {string} inputId Element ID of the input file picker element.\n",
              " * @param {string} outputId Element ID of the output display.\n",
              " * @return {!Iterable<!Object>} Iterable of next steps.\n",
              " */\n",
              "function* uploadFilesStep(inputId, outputId) {\n",
              "  const inputElement = document.getElementById(inputId);\n",
              "  inputElement.disabled = false;\n",
              "\n",
              "  const outputElement = document.getElementById(outputId);\n",
              "  outputElement.innerHTML = '';\n",
              "\n",
              "  const pickedPromise = new Promise((resolve) => {\n",
              "    inputElement.addEventListener('change', (e) => {\n",
              "      resolve(e.target.files);\n",
              "    });\n",
              "  });\n",
              "\n",
              "  const cancel = document.createElement('button');\n",
              "  inputElement.parentElement.appendChild(cancel);\n",
              "  cancel.textContent = 'Cancel upload';\n",
              "  const cancelPromise = new Promise((resolve) => {\n",
              "    cancel.onclick = () => {\n",
              "      resolve(null);\n",
              "    };\n",
              "  });\n",
              "\n",
              "  // Wait for the user to pick the files.\n",
              "  const files = yield {\n",
              "    promise: Promise.race([pickedPromise, cancelPromise]),\n",
              "    response: {\n",
              "      action: 'starting',\n",
              "    }\n",
              "  };\n",
              "\n",
              "  cancel.remove();\n",
              "\n",
              "  // Disable the input element since further picks are not allowed.\n",
              "  inputElement.disabled = true;\n",
              "\n",
              "  if (!files) {\n",
              "    return {\n",
              "      response: {\n",
              "        action: 'complete',\n",
              "      }\n",
              "    };\n",
              "  }\n",
              "\n",
              "  for (const file of files) {\n",
              "    const li = document.createElement('li');\n",
              "    li.append(span(file.name, {fontWeight: 'bold'}));\n",
              "    li.append(span(\n",
              "        `(${file.type || 'n/a'}) - ${file.size} bytes, ` +\n",
              "        `last modified: ${\n",
              "            file.lastModifiedDate ? file.lastModifiedDate.toLocaleDateString() :\n",
              "                                    'n/a'} - `));\n",
              "    const percent = span('0% done');\n",
              "    li.appendChild(percent);\n",
              "\n",
              "    outputElement.appendChild(li);\n",
              "\n",
              "    const fileDataPromise = new Promise((resolve) => {\n",
              "      const reader = new FileReader();\n",
              "      reader.onload = (e) => {\n",
              "        resolve(e.target.result);\n",
              "      };\n",
              "      reader.readAsArrayBuffer(file);\n",
              "    });\n",
              "    // Wait for the data to be ready.\n",
              "    let fileData = yield {\n",
              "      promise: fileDataPromise,\n",
              "      response: {\n",
              "        action: 'continue',\n",
              "      }\n",
              "    };\n",
              "\n",
              "    // Use a chunked sending to avoid message size limits. See b/62115660.\n",
              "    let position = 0;\n",
              "    do {\n",
              "      const length = Math.min(fileData.byteLength - position, MAX_PAYLOAD_SIZE);\n",
              "      const chunk = new Uint8Array(fileData, position, length);\n",
              "      position += length;\n",
              "\n",
              "      const base64 = btoa(String.fromCharCode.apply(null, chunk));\n",
              "      yield {\n",
              "        response: {\n",
              "          action: 'append',\n",
              "          file: file.name,\n",
              "          data: base64,\n",
              "        },\n",
              "      };\n",
              "\n",
              "      let percentDone = fileData.byteLength === 0 ?\n",
              "          100 :\n",
              "          Math.round((position / fileData.byteLength) * 100);\n",
              "      percent.textContent = `${percentDone}% done`;\n",
              "\n",
              "    } while (position < fileData.byteLength);\n",
              "  }\n",
              "\n",
              "  // All done.\n",
              "  yield {\n",
              "    response: {\n",
              "      action: 'complete',\n",
              "    }\n",
              "  };\n",
              "}\n",
              "\n",
              "scope.google = scope.google || {};\n",
              "scope.google.colab = scope.google.colab || {};\n",
              "scope.google.colab._files = {\n",
              "  _uploadFiles,\n",
              "  _uploadFilesContinue,\n",
              "};\n",
              "})(self);\n",
              "</script> "
            ]
          },
          "metadata": {}
        },
        {
          "output_type": "stream",
          "name": "stdout",
          "text": [
            "Saving CreditDefault_Xtest.csv to CreditDefault_Xtest.csv\n",
            "Saving CreditDefault_training.csv to CreditDefault_training.csv\n"
          ]
        }
      ]
    },
    {
      "cell_type": "code",
      "source": [
        "df_train = pd.read_csv(io.BytesIO(uploaded['CreditDefault_training.csv']))\n",
        "df_test = pd.read_csv(io.BytesIO(uploaded['CreditDefault_Xtest.csv']))"
      ],
      "metadata": {
        "id": "CDeXC_38dt_Y"
      },
      "execution_count": null,
      "outputs": []
    },
    {
      "cell_type": "code",
      "metadata": {
        "id": "FjelmmpKVQr9",
        "colab": {
          "base_uri": "https://localhost:8080/",
          "height": 424
        },
        "outputId": "cd838644-ffac-46bd-8460-f7d2bc5ea160"
      },
      "source": [
        "# Split data into X (features) and y (target)\n",
        "# Please make sure y is in a one-hot representation\n",
        "# WRITE CODE HERE\n",
        "X=df_train.drop(['default.payment.next.month'],axis=1)\n",
        "y=df_train['default.payment.next.month']\n",
        "\n",
        "# for y, perform one hot encoding\n",
        "y=pd.get_dummies(y)\n",
        "y"
      ],
      "execution_count": null,
      "outputs": [
        {
          "output_type": "execute_result",
          "data": {
            "text/plain": [
              "      0  1\n",
              "0     1  0\n",
              "1     1  0\n",
              "2     1  0\n",
              "3     0  1\n",
              "4     1  0\n",
              "...  .. ..\n",
              "3980  1  0\n",
              "3981  1  0\n",
              "3982  1  0\n",
              "3983  0  1\n",
              "3984  1  0\n",
              "\n",
              "[3985 rows x 2 columns]"
            ],
            "text/html": [
              "\n",
              "  <div id=\"df-2d87e0a7-35b7-4f75-9fb1-83dbb55b5263\">\n",
              "    <div class=\"colab-df-container\">\n",
              "      <div>\n",
              "<style scoped>\n",
              "    .dataframe tbody tr th:only-of-type {\n",
              "        vertical-align: middle;\n",
              "    }\n",
              "\n",
              "    .dataframe tbody tr th {\n",
              "        vertical-align: top;\n",
              "    }\n",
              "\n",
              "    .dataframe thead th {\n",
              "        text-align: right;\n",
              "    }\n",
              "</style>\n",
              "<table border=\"1\" class=\"dataframe\">\n",
              "  <thead>\n",
              "    <tr style=\"text-align: right;\">\n",
              "      <th></th>\n",
              "      <th>0</th>\n",
              "      <th>1</th>\n",
              "    </tr>\n",
              "  </thead>\n",
              "  <tbody>\n",
              "    <tr>\n",
              "      <th>0</th>\n",
              "      <td>1</td>\n",
              "      <td>0</td>\n",
              "    </tr>\n",
              "    <tr>\n",
              "      <th>1</th>\n",
              "      <td>1</td>\n",
              "      <td>0</td>\n",
              "    </tr>\n",
              "    <tr>\n",
              "      <th>2</th>\n",
              "      <td>1</td>\n",
              "      <td>0</td>\n",
              "    </tr>\n",
              "    <tr>\n",
              "      <th>3</th>\n",
              "      <td>0</td>\n",
              "      <td>1</td>\n",
              "    </tr>\n",
              "    <tr>\n",
              "      <th>4</th>\n",
              "      <td>1</td>\n",
              "      <td>0</td>\n",
              "    </tr>\n",
              "    <tr>\n",
              "      <th>...</th>\n",
              "      <td>...</td>\n",
              "      <td>...</td>\n",
              "    </tr>\n",
              "    <tr>\n",
              "      <th>3980</th>\n",
              "      <td>1</td>\n",
              "      <td>0</td>\n",
              "    </tr>\n",
              "    <tr>\n",
              "      <th>3981</th>\n",
              "      <td>1</td>\n",
              "      <td>0</td>\n",
              "    </tr>\n",
              "    <tr>\n",
              "      <th>3982</th>\n",
              "      <td>1</td>\n",
              "      <td>0</td>\n",
              "    </tr>\n",
              "    <tr>\n",
              "      <th>3983</th>\n",
              "      <td>0</td>\n",
              "      <td>1</td>\n",
              "    </tr>\n",
              "    <tr>\n",
              "      <th>3984</th>\n",
              "      <td>1</td>\n",
              "      <td>0</td>\n",
              "    </tr>\n",
              "  </tbody>\n",
              "</table>\n",
              "<p>3985 rows × 2 columns</p>\n",
              "</div>\n",
              "      <button class=\"colab-df-convert\" onclick=\"convertToInteractive('df-2d87e0a7-35b7-4f75-9fb1-83dbb55b5263')\"\n",
              "              title=\"Convert this dataframe to an interactive table.\"\n",
              "              style=\"display:none;\">\n",
              "        \n",
              "  <svg xmlns=\"http://www.w3.org/2000/svg\" height=\"24px\"viewBox=\"0 0 24 24\"\n",
              "       width=\"24px\">\n",
              "    <path d=\"M0 0h24v24H0V0z\" fill=\"none\"/>\n",
              "    <path d=\"M18.56 5.44l.94 2.06.94-2.06 2.06-.94-2.06-.94-.94-2.06-.94 2.06-2.06.94zm-11 1L8.5 8.5l.94-2.06 2.06-.94-2.06-.94L8.5 2.5l-.94 2.06-2.06.94zm10 10l.94 2.06.94-2.06 2.06-.94-2.06-.94-.94-2.06-.94 2.06-2.06.94z\"/><path d=\"M17.41 7.96l-1.37-1.37c-.4-.4-.92-.59-1.43-.59-.52 0-1.04.2-1.43.59L10.3 9.45l-7.72 7.72c-.78.78-.78 2.05 0 2.83L4 21.41c.39.39.9.59 1.41.59.51 0 1.02-.2 1.41-.59l7.78-7.78 2.81-2.81c.8-.78.8-2.07 0-2.86zM5.41 20L4 18.59l7.72-7.72 1.47 1.35L5.41 20z\"/>\n",
              "  </svg>\n",
              "      </button>\n",
              "      \n",
              "  <style>\n",
              "    .colab-df-container {\n",
              "      display:flex;\n",
              "      flex-wrap:wrap;\n",
              "      gap: 12px;\n",
              "    }\n",
              "\n",
              "    .colab-df-convert {\n",
              "      background-color: #E8F0FE;\n",
              "      border: none;\n",
              "      border-radius: 50%;\n",
              "      cursor: pointer;\n",
              "      display: none;\n",
              "      fill: #1967D2;\n",
              "      height: 32px;\n",
              "      padding: 0 0 0 0;\n",
              "      width: 32px;\n",
              "    }\n",
              "\n",
              "    .colab-df-convert:hover {\n",
              "      background-color: #E2EBFA;\n",
              "      box-shadow: 0px 1px 2px rgba(60, 64, 67, 0.3), 0px 1px 3px 1px rgba(60, 64, 67, 0.15);\n",
              "      fill: #174EA6;\n",
              "    }\n",
              "\n",
              "    [theme=dark] .colab-df-convert {\n",
              "      background-color: #3B4455;\n",
              "      fill: #D2E3FC;\n",
              "    }\n",
              "\n",
              "    [theme=dark] .colab-df-convert:hover {\n",
              "      background-color: #434B5C;\n",
              "      box-shadow: 0px 1px 3px 1px rgba(0, 0, 0, 0.15);\n",
              "      filter: drop-shadow(0px 1px 2px rgba(0, 0, 0, 0.3));\n",
              "      fill: #FFFFFF;\n",
              "    }\n",
              "  </style>\n",
              "\n",
              "      <script>\n",
              "        const buttonEl =\n",
              "          document.querySelector('#df-2d87e0a7-35b7-4f75-9fb1-83dbb55b5263 button.colab-df-convert');\n",
              "        buttonEl.style.display =\n",
              "          google.colab.kernel.accessAllowed ? 'block' : 'none';\n",
              "\n",
              "        async function convertToInteractive(key) {\n",
              "          const element = document.querySelector('#df-2d87e0a7-35b7-4f75-9fb1-83dbb55b5263');\n",
              "          const dataTable =\n",
              "            await google.colab.kernel.invokeFunction('convertToInteractive',\n",
              "                                                     [key], {});\n",
              "          if (!dataTable) return;\n",
              "\n",
              "          const docLinkHtml = 'Like what you see? Visit the ' +\n",
              "            '<a target=\"_blank\" href=https://colab.research.google.com/notebooks/data_table.ipynb>data table notebook</a>'\n",
              "            + ' to learn more about interactive tables.';\n",
              "          element.innerHTML = '';\n",
              "          dataTable['output_type'] = 'display_data';\n",
              "          await google.colab.output.renderOutput(dataTable, element);\n",
              "          const docLink = document.createElement('div');\n",
              "          docLink.innerHTML = docLinkHtml;\n",
              "          element.appendChild(docLink);\n",
              "        }\n",
              "      </script>\n",
              "    </div>\n",
              "  </div>\n",
              "  "
            ]
          },
          "metadata": {},
          "execution_count": 38
        }
      ]
    },
    {
      "cell_type": "code",
      "source": [
        "# Standardization of continous variables\n",
        "from sklearn.preprocessing import StandardScaler\n",
        "scaler = StandardScaler()\n",
        "\n",
        "cat_col=['SEX', 'EDUCATION', 'MARRIAGE', 'PAY_1', 'PAY_2', 'PAY_3', 'PAY_4', 'PAY_5', 'PAY_6']\n",
        "\n",
        "for i in X.columns:\n",
        "  if (i not in cat_col):\n",
        "    X[i]=scaler.fit_transform(X[[i]]).ravel()\n",
        "    df_test[i]=scaler.transform(df_test[[i]]).ravel()\n",
        "\n"
      ],
      "metadata": {
        "id": "JgRk6k1Qi0HL"
      },
      "execution_count": null,
      "outputs": []
    },
    {
      "cell_type": "code",
      "source": [
        "# one hot encoding\n",
        "X2 =pd.get_dummies(X,columns=cat_col)\n",
        "\n",
        "df_test2=pd.get_dummies(df_test,columns=cat_col)\n",
        "df_test3 = df_test2.reindex(columns = X2.columns, fill_value=0)"
      ],
      "metadata": {
        "id": "5LtjY9MprvwT"
      },
      "execution_count": null,
      "outputs": []
    },
    {
      "cell_type": "code",
      "metadata": {
        "id": "RO0USNU2V8RY"
      },
      "source": [
        "# Split data into training and validation set (the code has been provided)\n",
        "from sklearn.model_selection import train_test_split\n",
        "X_train, X_val, y_train, y_val = train_test_split(X2, y, test_size=0.3, random_state=42)"
      ],
      "execution_count": null,
      "outputs": []
    },
    {
      "cell_type": "code",
      "metadata": {
        "id": "csifFJTU_guc",
        "colab": {
          "base_uri": "https://localhost:8080/"
        },
        "outputId": "65674690-3426-4838-de8d-2f5c93265097"
      },
      "source": [
        "# Print out the shape of X_train\n",
        "X_train.shape"
      ],
      "execution_count": null,
      "outputs": [
        {
          "output_type": "execute_result",
          "data": {
            "text/plain": [
              "(2789, 82)"
            ]
          },
          "metadata": {},
          "execution_count": 42
        }
      ]
    },
    {
      "cell_type": "markdown",
      "metadata": {
        "id": "BScpBTLeYsDE"
      },
      "source": [
        "Q2. Build a neural network to predict the output in the \"CreditDefault_training.csv\". The architecture choice is up to you, but you are required to use Dense layers and dropout layers only.\n",
        "\n",
        "You can try different number of layers, different number of units in layers and experiment with hyperparameters. \n",
        "\n",
        "To include regularization, you can include a dropout layer after a hidden layer. In dropout layer, you can randomly set a fraction rate of input units to 0 at each update during training time, which helps prevent overfitting.\n",
        "\n",
        "Please use 'relu' activation function for all intermediate layers.\n",
        "\n",
        "Please build your model in the build_final_model() function"
      ]
    },
    {
      "cell_type": "code",
      "metadata": {
        "id": "HJ2jpZpe_guc"
      },
      "source": [
        "def build_final_model():\n",
        "    model = Sequential()\n",
        "    ### YOUR CODE HERE ###\n",
        "    \n",
        "    # First add fully-connected (Dense) hidden layers with appropriate input dimension\n",
        "    model.add(Dense(82, input_dim = X_train.shape[1], activation='relu'))\n",
        "\n",
        "    # set second hidden layer as average of input and output layer\n",
        "    model.add(Dense(42, activation='relu'))\n",
        "\n",
        "    # Drop out layer\n",
        "    model.add(Dropout(0.2))\n",
        "    \n",
        "    # Continues the process \n",
        "    model.add(Dense(21, activation='relu'))\n",
        "\n",
        "    # Finally, add a readout layer\n",
        "    model.add(Dense(2, activation='softmax'))\n",
        "    \n",
        "    ######################\n",
        "    sgd = SGD(learning_rate=0.001, decay=1e-7, momentum=.9)  # Stochastic gradient descent\n",
        "    model.compile(loss='categorical_crossentropy', optimizer=sgd, metrics=[\"accuracy\"])\n",
        "    \n",
        "\n",
        "    return model"
      ],
      "execution_count": null,
      "outputs": []
    },
    {
      "cell_type": "code",
      "metadata": {
        "id": "AHSeeBL9_guc"
      },
      "source": [
        "model = build_final_model()"
      ],
      "execution_count": null,
      "outputs": []
    },
    {
      "cell_type": "markdown",
      "metadata": {
        "id": "_l0iekg-eAYF"
      },
      "source": [
        "Q3. Fit the model by training set with epochs=100, batch_size=32"
      ]
    },
    {
      "cell_type": "code",
      "metadata": {
        "id": "biZD8E6Q_guc",
        "scrolled": true,
        "colab": {
          "base_uri": "https://localhost:8080/"
        },
        "outputId": "ae65e000-a594-4319-9ffb-2cf3eb6bb72f"
      },
      "source": [
        "### YOUR CODE HERE ###\n",
        "trained5 = model.fit(X_train, y_train, epochs=100, batch_size=32)"
      ],
      "execution_count": null,
      "outputs": [
        {
          "output_type": "stream",
          "name": "stdout",
          "text": [
            "Epoch 1/100\n",
            "88/88 [==============================] - 1s 2ms/step - loss: 0.5917 - accuracy: 0.7469\n",
            "Epoch 2/100\n",
            "88/88 [==============================] - 0s 2ms/step - loss: 0.5370 - accuracy: 0.7666\n",
            "Epoch 3/100\n",
            "88/88 [==============================] - 0s 2ms/step - loss: 0.5232 - accuracy: 0.7666\n",
            "Epoch 4/100\n",
            "88/88 [==============================] - 0s 2ms/step - loss: 0.5085 - accuracy: 0.7669\n",
            "Epoch 5/100\n",
            "88/88 [==============================] - 0s 2ms/step - loss: 0.4976 - accuracy: 0.7673\n",
            "Epoch 6/100\n",
            "88/88 [==============================] - 0s 2ms/step - loss: 0.4889 - accuracy: 0.7669\n",
            "Epoch 7/100\n",
            "88/88 [==============================] - 0s 2ms/step - loss: 0.4803 - accuracy: 0.7680\n",
            "Epoch 8/100\n",
            "88/88 [==============================] - 0s 2ms/step - loss: 0.4727 - accuracy: 0.7695\n",
            "Epoch 9/100\n",
            "88/88 [==============================] - 0s 2ms/step - loss: 0.4688 - accuracy: 0.7702\n",
            "Epoch 10/100\n",
            "88/88 [==============================] - 0s 2ms/step - loss: 0.4652 - accuracy: 0.7759\n",
            "Epoch 11/100\n",
            "88/88 [==============================] - 0s 2ms/step - loss: 0.4568 - accuracy: 0.7845\n",
            "Epoch 12/100\n",
            "88/88 [==============================] - 0s 2ms/step - loss: 0.4568 - accuracy: 0.7974\n",
            "Epoch 13/100\n",
            "88/88 [==============================] - 0s 2ms/step - loss: 0.4535 - accuracy: 0.7953\n",
            "Epoch 14/100\n",
            "88/88 [==============================] - 0s 2ms/step - loss: 0.4549 - accuracy: 0.8003\n",
            "Epoch 15/100\n",
            "88/88 [==============================] - 0s 2ms/step - loss: 0.4461 - accuracy: 0.7992\n",
            "Epoch 16/100\n",
            "88/88 [==============================] - 0s 2ms/step - loss: 0.4430 - accuracy: 0.8121\n",
            "Epoch 17/100\n",
            "88/88 [==============================] - 0s 2ms/step - loss: 0.4450 - accuracy: 0.8049\n",
            "Epoch 18/100\n",
            "88/88 [==============================] - 0s 2ms/step - loss: 0.4411 - accuracy: 0.8046\n",
            "Epoch 19/100\n",
            "88/88 [==============================] - 0s 2ms/step - loss: 0.4388 - accuracy: 0.8103\n",
            "Epoch 20/100\n",
            "88/88 [==============================] - 0s 2ms/step - loss: 0.4449 - accuracy: 0.8121\n",
            "Epoch 21/100\n",
            "88/88 [==============================] - 0s 2ms/step - loss: 0.4387 - accuracy: 0.8100\n",
            "Epoch 22/100\n",
            "88/88 [==============================] - 0s 2ms/step - loss: 0.4378 - accuracy: 0.8100\n",
            "Epoch 23/100\n",
            "88/88 [==============================] - 0s 2ms/step - loss: 0.4300 - accuracy: 0.8161\n",
            "Epoch 24/100\n",
            "88/88 [==============================] - 0s 2ms/step - loss: 0.4310 - accuracy: 0.8214\n",
            "Epoch 25/100\n",
            "88/88 [==============================] - 0s 2ms/step - loss: 0.4303 - accuracy: 0.8186\n",
            "Epoch 26/100\n",
            "88/88 [==============================] - 0s 2ms/step - loss: 0.4291 - accuracy: 0.8186\n",
            "Epoch 27/100\n",
            "88/88 [==============================] - 0s 2ms/step - loss: 0.4296 - accuracy: 0.8168\n",
            "Epoch 28/100\n",
            "88/88 [==============================] - 0s 2ms/step - loss: 0.4276 - accuracy: 0.8182\n",
            "Epoch 29/100\n",
            "88/88 [==============================] - 0s 2ms/step - loss: 0.4266 - accuracy: 0.8193\n",
            "Epoch 30/100\n",
            "88/88 [==============================] - 0s 2ms/step - loss: 0.4281 - accuracy: 0.8168\n",
            "Epoch 31/100\n",
            "88/88 [==============================] - 0s 2ms/step - loss: 0.4269 - accuracy: 0.8204\n",
            "Epoch 32/100\n",
            "88/88 [==============================] - 0s 2ms/step - loss: 0.4222 - accuracy: 0.8196\n",
            "Epoch 33/100\n",
            "88/88 [==============================] - 0s 2ms/step - loss: 0.4228 - accuracy: 0.8179\n",
            "Epoch 34/100\n",
            "88/88 [==============================] - 0s 2ms/step - loss: 0.4226 - accuracy: 0.8204\n",
            "Epoch 35/100\n",
            "88/88 [==============================] - 0s 2ms/step - loss: 0.4244 - accuracy: 0.8200\n",
            "Epoch 36/100\n",
            "88/88 [==============================] - 0s 2ms/step - loss: 0.4184 - accuracy: 0.8153\n",
            "Epoch 37/100\n",
            "88/88 [==============================] - 0s 2ms/step - loss: 0.4217 - accuracy: 0.8196\n",
            "Epoch 38/100\n",
            "88/88 [==============================] - 0s 2ms/step - loss: 0.4181 - accuracy: 0.8204\n",
            "Epoch 39/100\n",
            "88/88 [==============================] - 0s 2ms/step - loss: 0.4175 - accuracy: 0.8200\n",
            "Epoch 40/100\n",
            "88/88 [==============================] - 0s 2ms/step - loss: 0.4164 - accuracy: 0.8171\n",
            "Epoch 41/100\n",
            "88/88 [==============================] - 0s 2ms/step - loss: 0.4201 - accuracy: 0.8196\n",
            "Epoch 42/100\n",
            "88/88 [==============================] - 0s 2ms/step - loss: 0.4168 - accuracy: 0.8257\n",
            "Epoch 43/100\n",
            "88/88 [==============================] - 0s 2ms/step - loss: 0.4121 - accuracy: 0.8272\n",
            "Epoch 44/100\n",
            "88/88 [==============================] - 0s 2ms/step - loss: 0.4151 - accuracy: 0.8254\n",
            "Epoch 45/100\n",
            "88/88 [==============================] - 0s 2ms/step - loss: 0.4134 - accuracy: 0.8222\n",
            "Epoch 46/100\n",
            "88/88 [==============================] - 0s 2ms/step - loss: 0.4159 - accuracy: 0.8218\n",
            "Epoch 47/100\n",
            "88/88 [==============================] - 0s 2ms/step - loss: 0.4115 - accuracy: 0.8218\n",
            "Epoch 48/100\n",
            "88/88 [==============================] - 0s 2ms/step - loss: 0.4107 - accuracy: 0.8225\n",
            "Epoch 49/100\n",
            "88/88 [==============================] - 0s 2ms/step - loss: 0.4086 - accuracy: 0.8268\n",
            "Epoch 50/100\n",
            "88/88 [==============================] - 0s 2ms/step - loss: 0.4084 - accuracy: 0.8275\n",
            "Epoch 51/100\n",
            "88/88 [==============================] - 0s 2ms/step - loss: 0.4120 - accuracy: 0.8240\n",
            "Epoch 52/100\n",
            "88/88 [==============================] - 0s 2ms/step - loss: 0.4103 - accuracy: 0.8272\n",
            "Epoch 53/100\n",
            "88/88 [==============================] - 0s 2ms/step - loss: 0.4098 - accuracy: 0.8286\n",
            "Epoch 54/100\n",
            "88/88 [==============================] - 0s 2ms/step - loss: 0.4048 - accuracy: 0.8290\n",
            "Epoch 55/100\n",
            "88/88 [==============================] - 0s 2ms/step - loss: 0.4043 - accuracy: 0.8275\n",
            "Epoch 56/100\n",
            "88/88 [==============================] - 0s 2ms/step - loss: 0.4046 - accuracy: 0.8311\n",
            "Epoch 57/100\n",
            "88/88 [==============================] - 0s 2ms/step - loss: 0.4045 - accuracy: 0.8265\n",
            "Epoch 58/100\n",
            "88/88 [==============================] - 0s 2ms/step - loss: 0.4050 - accuracy: 0.8293\n",
            "Epoch 59/100\n",
            "88/88 [==============================] - 0s 2ms/step - loss: 0.4027 - accuracy: 0.8250\n",
            "Epoch 60/100\n",
            "88/88 [==============================] - 0s 2ms/step - loss: 0.4017 - accuracy: 0.8300\n",
            "Epoch 61/100\n",
            "88/88 [==============================] - 0s 2ms/step - loss: 0.4012 - accuracy: 0.8290\n",
            "Epoch 62/100\n",
            "88/88 [==============================] - 0s 2ms/step - loss: 0.4009 - accuracy: 0.8308\n",
            "Epoch 63/100\n",
            "88/88 [==============================] - 0s 2ms/step - loss: 0.3985 - accuracy: 0.8329\n",
            "Epoch 64/100\n",
            "88/88 [==============================] - 0s 2ms/step - loss: 0.4006 - accuracy: 0.8286\n",
            "Epoch 65/100\n",
            "88/88 [==============================] - 0s 2ms/step - loss: 0.4002 - accuracy: 0.8315\n",
            "Epoch 66/100\n",
            "88/88 [==============================] - 0s 2ms/step - loss: 0.3936 - accuracy: 0.8326\n",
            "Epoch 67/100\n",
            "88/88 [==============================] - 0s 2ms/step - loss: 0.4003 - accuracy: 0.8369\n",
            "Epoch 68/100\n",
            "88/88 [==============================] - 0s 2ms/step - loss: 0.3962 - accuracy: 0.8318\n",
            "Epoch 69/100\n",
            "88/88 [==============================] - 0s 2ms/step - loss: 0.4014 - accuracy: 0.8315\n",
            "Epoch 70/100\n",
            "88/88 [==============================] - 0s 2ms/step - loss: 0.3981 - accuracy: 0.8329\n",
            "Epoch 71/100\n",
            "88/88 [==============================] - 0s 2ms/step - loss: 0.3970 - accuracy: 0.8326\n",
            "Epoch 72/100\n",
            "88/88 [==============================] - 0s 2ms/step - loss: 0.3883 - accuracy: 0.8333\n",
            "Epoch 73/100\n",
            "88/88 [==============================] - 0s 2ms/step - loss: 0.3965 - accuracy: 0.8322\n",
            "Epoch 74/100\n",
            "88/88 [==============================] - 0s 2ms/step - loss: 0.3903 - accuracy: 0.8369\n",
            "Epoch 75/100\n",
            "88/88 [==============================] - 0s 2ms/step - loss: 0.3912 - accuracy: 0.8361\n",
            "Epoch 76/100\n",
            "88/88 [==============================] - 0s 2ms/step - loss: 0.3915 - accuracy: 0.8351\n",
            "Epoch 77/100\n",
            "88/88 [==============================] - 0s 2ms/step - loss: 0.3905 - accuracy: 0.8343\n",
            "Epoch 78/100\n",
            "88/88 [==============================] - 0s 2ms/step - loss: 0.3909 - accuracy: 0.8336\n",
            "Epoch 79/100\n",
            "88/88 [==============================] - 0s 2ms/step - loss: 0.3894 - accuracy: 0.8336\n",
            "Epoch 80/100\n",
            "88/88 [==============================] - 0s 2ms/step - loss: 0.3909 - accuracy: 0.8333\n",
            "Epoch 81/100\n",
            "88/88 [==============================] - 0s 2ms/step - loss: 0.3853 - accuracy: 0.8369\n",
            "Epoch 82/100\n",
            "88/88 [==============================] - 0s 2ms/step - loss: 0.3887 - accuracy: 0.8394\n",
            "Epoch 83/100\n",
            "88/88 [==============================] - 0s 2ms/step - loss: 0.3839 - accuracy: 0.8401\n",
            "Epoch 84/100\n",
            "88/88 [==============================] - 0s 2ms/step - loss: 0.3865 - accuracy: 0.8351\n",
            "Epoch 85/100\n",
            "88/88 [==============================] - 0s 2ms/step - loss: 0.3811 - accuracy: 0.8379\n",
            "Epoch 86/100\n",
            "88/88 [==============================] - 0s 2ms/step - loss: 0.3824 - accuracy: 0.8394\n",
            "Epoch 87/100\n",
            "88/88 [==============================] - 0s 2ms/step - loss: 0.3863 - accuracy: 0.8404\n",
            "Epoch 88/100\n",
            "88/88 [==============================] - 0s 2ms/step - loss: 0.3897 - accuracy: 0.8347\n",
            "Epoch 89/100\n",
            "88/88 [==============================] - 0s 3ms/step - loss: 0.3803 - accuracy: 0.8326\n",
            "Epoch 90/100\n",
            "88/88 [==============================] - 0s 3ms/step - loss: 0.3822 - accuracy: 0.8394\n",
            "Epoch 91/100\n",
            "88/88 [==============================] - 0s 2ms/step - loss: 0.3837 - accuracy: 0.8412\n",
            "Epoch 92/100\n",
            "88/88 [==============================] - 0s 2ms/step - loss: 0.3819 - accuracy: 0.8390\n",
            "Epoch 93/100\n",
            "88/88 [==============================] - 0s 2ms/step - loss: 0.3827 - accuracy: 0.8365\n",
            "Epoch 94/100\n",
            "88/88 [==============================] - 0s 2ms/step - loss: 0.3795 - accuracy: 0.8365\n",
            "Epoch 95/100\n",
            "88/88 [==============================] - 0s 2ms/step - loss: 0.3775 - accuracy: 0.8422\n",
            "Epoch 96/100\n",
            "88/88 [==============================] - 0s 2ms/step - loss: 0.3809 - accuracy: 0.8390\n",
            "Epoch 97/100\n",
            "88/88 [==============================] - 0s 2ms/step - loss: 0.3777 - accuracy: 0.8422\n",
            "Epoch 98/100\n",
            "88/88 [==============================] - 0s 2ms/step - loss: 0.3716 - accuracy: 0.8401\n",
            "Epoch 99/100\n",
            "88/88 [==============================] - 0s 2ms/step - loss: 0.3770 - accuracy: 0.8376\n",
            "Epoch 100/100\n",
            "88/88 [==============================] - 0s 2ms/step - loss: 0.3745 - accuracy: 0.8458\n"
          ]
        }
      ]
    },
    {
      "cell_type": "markdown",
      "metadata": {
        "id": "SiF2xX_uenJn"
      },
      "source": [
        "Q4. Obtain predictions on validation set and print accuracy, precision & recall and F1 score.\n",
        "\n",
        "F1 = 2 * (precision * recall) / (precision + recall)"
      ]
    },
    {
      "cell_type": "code",
      "metadata": {
        "id": "jghwnwcL_guc",
        "colab": {
          "base_uri": "https://localhost:8080/"
        },
        "outputId": "461c2e19-8c66-49e3-95b3-925db4a99aff"
      },
      "source": [
        "# Predictions\n",
        "y_preds5 = model.predict(X_val)\n",
        "y_preds5 = y_preds5.round()"
      ],
      "execution_count": null,
      "outputs": [
        {
          "output_type": "stream",
          "name": "stdout",
          "text": [
            "38/38 [==============================] - 0s 2ms/step\n"
          ]
        }
      ]
    },
    {
      "cell_type": "code",
      "source": [
        "# convert to numpy array for next step of processing later\n",
        "y_val_arr = y_val.to_numpy()"
      ],
      "metadata": {
        "colab": {
          "base_uri": "https://localhost:8080/"
        },
        "id": "l7VTfRlOsBYj",
        "outputId": "7519df8d-51ee-4f5e-fdb2-f8954d0bdce7"
      },
      "execution_count": null,
      "outputs": [
        {
          "output_type": "execute_result",
          "data": {
            "text/plain": [
              "array([[1, 0],\n",
              "       [1, 0],\n",
              "       [0, 1],\n",
              "       ...,\n",
              "       [0, 1],\n",
              "       [1, 0],\n",
              "       [1, 0]], dtype=uint8)"
            ]
          },
          "metadata": {},
          "execution_count": 48
        }
      ]
    },
    {
      "cell_type": "code",
      "source": [
        "from sklearn.metrics import accuracy_score, recall_score, precision_score, f1_score, roc_auc_score, roc_curve\n",
        "\n",
        "# reduce to 1d array\n",
        "y_preds5_1d = y_preds5[:, 0]\n",
        "y_val_1d = y_val_arr[:, 0]\n",
        "\n",
        "# accuracy\n",
        "accuracy = accuracy_score(y_val_1d, y_preds5_1d)\n",
        "print(f'The accuracy is: {accuracy}')\n",
        "\n",
        "# recall\n",
        "recall = recall_score(y_val_1d, y_preds5_1d)\n",
        "print(f'The recall is: {recall}')\n",
        "\n",
        "# precision\n",
        "precision = precision_score(y_val_1d, y_preds5_1d)\n",
        "print(f'The precision is: {precision}')\n",
        "\n",
        "# f1-score\n",
        "f1 = f1_score(y_val_1d, y_preds5_1d)\n",
        "print(f'The f1 is: {f1}')\n",
        "\n"
      ],
      "metadata": {
        "colab": {
          "base_uri": "https://localhost:8080/"
        },
        "id": "wU8XqCF8sDLi",
        "outputId": "89bf9eb8-8238-4150-d5f4-5c2943654404"
      },
      "execution_count": null,
      "outputs": [
        {
          "output_type": "stream",
          "name": "stdout",
          "text": [
            "The accuracy is: 0.8035117056856187\n",
            "The recall is: 0.9006479481641468\n",
            "The precision is: 0.8536335721596725\n",
            "The f1 is: 0.8765107724645297\n"
          ]
        }
      ]
    },
    {
      "cell_type": "markdown",
      "metadata": {
        "id": "lm9Wv9P0gE4T"
      },
      "source": [
        "Q5. Plot the ROC curve by giving appropriate names for title and axes."
      ]
    },
    {
      "cell_type": "code",
      "metadata": {
        "id": "Cs7CkXWC_guc",
        "colab": {
          "base_uri": "https://localhost:8080/",
          "height": 312
        },
        "outputId": "22a123a2-0bac-4803-882d-504827f60c2f"
      },
      "source": [
        "# Plot the ROC curve by giving appropriate names for title and axes. \n",
        "### WRITE CODE HERE\n",
        "auc = roc_auc_score(y_val_1d, y_preds5[:, 0])\n",
        "print('ROC AUC: %f' % auc)\n",
        "\n",
        "# plot the curve\n",
        "fpr, tpr, thresholds = roc_curve(y_val_1d, y_preds5[:, 0])\n",
        "\n",
        "import matplotlib.pyplot as plt\n",
        "\n",
        "plt.plot(fpr, tpr, label='Neural network with regularisation, AUC= %f' %auc)\n",
        "plt.title('Neural Network ROC Curve')\n",
        "plt.xlabel('False Positive Rate')\n",
        "plt.ylabel('True Positive Rate')\n",
        "plt.legend()\n",
        "plt.show()"
      ],
      "execution_count": null,
      "outputs": [
        {
          "output_type": "stream",
          "name": "stdout",
          "text": [
            "ROC AUC: 0.685509\n"
          ]
        },
        {
          "output_type": "display_data",
          "data": {
            "text/plain": [
              "<Figure size 432x288 with 1 Axes>"
            ],
            "image/png": "[encoded data removed]"
          },
          "metadata": {
            "needs_background": "light"
          }
        }
      ]
    },
    {
      "cell_type": "markdown",
      "metadata": {
        "id": "3UyHYWaAtlOm"
      },
      "source": [
        "Is the accuracy value impressive for this dataset? Please explain based on the structure of this dataset. \n",
        "\n",
        "For these five metrics (accuracy, precision, recall, F1 score and AUC), please explain their connections and differences. For our dataset, which metrics should we focus more on?\n",
        "\n",
        "Ans-\n",
        "\n",
        "The accuracy score looks high at first glance, given its over 80%. However, if we look into the y values of the dataset, we notice there is a imbalanced number of training samples going into the two classification category (default or do not default). Over 75% of the observations in the training samples did not default. Hence, even if the model churns out predictions where all y_pred = 0, it would still get an accuracy score of 75%. Hence, the accuracy score does not appear to be especially impressive since the score is only a few percentage point improvement from 75%. \n",
        "\n",
        "\n",
        "*Accuracy* - Number of correct predictions/Number of total predictions (TP+TN/ TP+TN+FP+FN). Accuracy takes into account all predictions of the model, whichever category it falls into (TP, FP, TN, FN).\n",
        "\n",
        "*Precision* - A measure of how precise is the model's ability to predict correctly (TP/TP+FP). Precision is a subset of accuracy, and it is only concerned with the observations that the model predicted to be true (ie. observations which are predicted to default).\n",
        "\n",
        "*Recall* - A measure of how many actual positives have been captured by the model (TP/TP+FN). Recall is also a subset of accuracy, and it is only concerned with the observations that have y-values that are true (ie. observations which really defaulted).\n",
        "\n",
        "*F1 score* - F1 is a function of recall and precision. 2(pr/(p+r)). F1 score gives a balance between recall and precision. It is especially useful when both recall and precision are important or when there is an imbalanced class distribution, such as in this case.\n",
        "\n",
        "*AUC* - AUC is the area under the ROC curve. It is the measure of how well the model is able to distinguish between the two classes. This curve is based on the TPR (also known as recall), and FPR (FP/FP+TN). The ROC curve uses all 4 possible quadrants of classification (TP,FP,TN,FN).\n",
        "\n",
        "\n",
        "For our dataset, we will focus on the recall score, as it is more important to identify cases which will default, as these are more costly to the bank, as opposed to declining a customer and losing 1 client. In this case, the cost of a false negative is higher than that of a false positive, hence we will choose to use recall score.\n"
      ]
    },
    {
      "cell_type": "markdown",
      "metadata": {
        "id": "SjZQ940YWQSW"
      },
      "source": [
        "#### Tuning hyperparameters using cross-validation:<br/>\n",
        "Cross-validation in neural networks is computationally expensive. So we will perform a randomized cross-validation search across the parameter space using RandomizedSearchCV function.\n",
        "\n",
        "Here, we will use KerasClassifier class, which act as a wrapper of scikit-learn’s library in Keras comes as a handy tool for automating the tuning process."
      ]
    },
    {
      "cell_type": "code",
      "metadata": {
        "id": "O6t4j_UJWPYb"
      },
      "source": [
        "from sklearn.model_selection import RandomizedSearchCV \n",
        "from keras.wrappers.scikit_learn import KerasClassifier"
      ],
      "execution_count": null,
      "outputs": []
    },
    {
      "cell_type": "markdown",
      "metadata": {
        "id": "MJtSGwtNUlEg"
      },
      "source": [
        "Q6. First we create a function to build neural network model with activation function and learning rate of SGD as parameters"
      ]
    },
    {
      "cell_type": "code",
      "metadata": {
        "id": "pOvla-Yf4rca"
      },
      "source": [
        "# Build create_model function with activation function and learning rate of SGD as parameters\n",
        "def create_model(learning_rate, activation):\n",
        "  \n",
        "    # Create an SGD optimizer with its learning rate equal to the \"learning_rate\" parameter value of create_model\n",
        "    opt = SGD(learning_rate=learning_rate , decay=1e-7, momentum=.9)\n",
        "  \n",
        "    # Create your neural network model \n",
        "    model = Sequential()\n",
        "    # Please keep the same architecture as the NN model you have built above in order for comparison\n",
        "    # Please use the activation given by the \"activation\" parameter value of create_model for all inner layers except for the final layer.\n",
        "    # For the final output layer, choose an appropriate activation function by yourself.\n",
        "    \n",
        "    ### WRITE CODE HERE  \n",
        "    # First add fully-connected (Dense) hidden layers with appropriate input dimension\n",
        "    model.add(Dense(82, activation=activation))\n",
        "\n",
        "    # set second hidden layer as average of input and output layer\n",
        "    model.add(Dense(42, activation=activation))\n",
        "\n",
        "    # Drop out layer\n",
        "    model.add(Dropout(0.2))\n",
        "    \n",
        "\n",
        "    # Continues the process \n",
        "    model.add(Dense(21, activation=activation))\n",
        "\n",
        "    # Finally, add a readout layer\n",
        "    model.add(Dense(2, activation='softmax'))\n",
        "    \n",
        "    # Compile the model\n",
        "    model.compile(optimizer = opt,\n",
        "                  loss = 'categorical_crossentropy',\n",
        "                  metrics=[\"accuracy\"])\n",
        "    return model"
      ],
      "execution_count": null,
      "outputs": []
    },
    {
      "cell_type": "markdown",
      "metadata": {
        "id": "x2IHOXeRMPjR"
      },
      "source": [
        "Create a model object using KerasClassifier from keras.wrappers.scikit_learn by passing the create_model function."
      ]
    },
    {
      "cell_type": "code",
      "metadata": {
        "id": "Wq-48iSOMGRd",
        "colab": {
          "base_uri": "https://localhost:8080/"
        },
        "outputId": "9a8d0796-dd45-4170-ab84-f46c0e21f93a"
      },
      "source": [
        "model = KerasClassifier(build_fn = create_model,\n",
        "                       verbose = 0)"
      ],
      "execution_count": null,
      "outputs": [
        {
          "output_type": "stream",
          "name": "stderr",
          "text": [
            "<ipython-input-53-f0be3b82ac3c>:1: DeprecationWarning: KerasClassifier is deprecated, use Sci-Keras (https://github.com/adriangb/scikeras) instead. See https://www.adriangb.com/scikeras/stable/migration.html for help migrating.\n",
            "  model = KerasClassifier(build_fn = create_model,\n"
          ]
        }
      ]
    },
    {
      "cell_type": "markdown",
      "metadata": {
        "id": "dTQgcA8dMfIL"
      },
      "source": [
        "Q7. Try the following hyperparameters:\n",
        "\n",
        "- activation function: relu, tanh\n",
        "\n",
        "- batch size: 16, 32 and 64\n",
        "\n",
        "- epochs: 100, 200 and 500\n",
        "\n",
        "- learning rate: 0.01, 0.001 and 0.0001\n",
        "\n",
        "Use dictionary object to define the parameter search space."
      ]
    },
    {
      "cell_type": "code",
      "metadata": {
        "id": "Mldddf7RMcJn"
      },
      "source": [
        "### WRITE CODE HERE\n",
        "dict_para = {'activation':['relu', 'tanh'],\n",
        "            'batch_size':[16,32,64],\n",
        "             'epochs':[100,200,500],\n",
        "             'learning_rate':[0.01,0.001,0.0001]\n",
        "            }"
      ],
      "execution_count": null,
      "outputs": []
    },
    {
      "cell_type": "markdown",
      "metadata": {
        "id": "OugTwxjcNwG_"
      },
      "source": [
        "Next we perform a randomized cross-validation search across the parameter space using RandomizedSearchCV function. We select the randomized search as it works faster than a grid search. Here, we will perform a 5-fold cross-validation search. \n",
        "\n",
        "See https://scikit-learn.org/stable/modules/generated/sklearn.model_selection.RandomizedSearchCV.html?highlight=randomizedsearchcv#sklearn.model_selection.RandomizedSearchCV for the use of RandomizedSearchCV."
      ]
    },
    {
      "cell_type": "code",
      "metadata": {
        "id": "-O8EPPiDNsoI"
      },
      "source": [
        "### WRITE CODE HERE \n",
        "random_search = RandomizedSearchCV(estimator = model,\n",
        "                                   param_distributions = dict_para ,\n",
        "                                   cv = 5) "
      ],
      "execution_count": null,
      "outputs": []
    },
    {
      "cell_type": "code",
      "metadata": {
        "id": "n7HSam2xOVx1"
      },
      "source": [
        "random_search_results = random_search.fit(X_train, y_train) # it may take several hours. "
      ],
      "execution_count": null,
      "outputs": []
    },
    {
      "cell_type": "markdown",
      "metadata": {
        "id": "xkpfSAvOXVV9"
      },
      "source": [
        "Q8. Print the best model parameters "
      ]
    },
    {
      "cell_type": "code",
      "metadata": {
        "id": "qHnyRJlxW75H",
        "colab": {
          "base_uri": "https://localhost:8080/"
        },
        "outputId": "b0505e70-eb15-4161-d238-ff42a98a31e2"
      },
      "source": [
        "### WRITE CODE HERE \n",
        "random_search_results.best_params_"
      ],
      "execution_count": null,
      "outputs": [
        {
          "output_type": "execute_result",
          "data": {
            "text/plain": [
              "{'learning_rate': 0.001, 'epochs': 100, 'batch_size': 64, 'activation': 'tanh'}"
            ]
          },
          "metadata": {},
          "execution_count": 68
        }
      ]
    },
    {
      "cell_type": "markdown",
      "metadata": {
        "id": "ghS7bgUMaTU6"
      },
      "source": [
        "Q9. Fit the model with the Best Parameter Set"
      ]
    },
    {
      "cell_type": "code",
      "metadata": {
        "id": "yAR5UKtrXUd_",
        "colab": {
          "base_uri": "https://localhost:8080/"
        },
        "outputId": "4eec4487-9240-4b30-a344-31dd615b3d04"
      },
      "source": [
        "### WRITE CODE HERE \n",
        "final=random_search_results.best_estimator_\n",
        "final"
      ],
      "execution_count": null,
      "outputs": [
        {
          "output_type": "execute_result",
          "data": {
            "text/plain": [
              "<keras.wrappers.scikit_learn.KerasClassifier at 0x7fe8d906f340>"
            ]
          },
          "metadata": {},
          "execution_count": 69
        }
      ]
    },
    {
      "cell_type": "code",
      "source": [
        "best_params = random_search_results.best_params_\n",
        "final = create_model(learning_rate=best_params['learning_rate'], activation=best_params['activation'])\n",
        "final.fit(X_train, y_train, epochs=best_params['epochs'], batch_size=best_params['batch_size'])"
      ],
      "metadata": {
        "colab": {
          "base_uri": "https://localhost:8080/"
        },
        "id": "Fkls70hutJGu",
        "outputId": "599c2924-082c-4cc2-d7c7-a60457a5eaa7"
      },
      "execution_count": null,
      "outputs": [
        {
          "output_type": "stream",
          "name": "stdout",
          "text": [
            "Epoch 1/100\n",
            "44/44 [==============================] - 1s 2ms/step - loss: 0.6064 - accuracy: 0.7038\n",
            "Epoch 2/100\n",
            "44/44 [==============================] - 0s 2ms/step - loss: 0.5144 - accuracy: 0.7680\n",
            "Epoch 3/100\n",
            "44/44 [==============================] - 0s 2ms/step - loss: 0.4831 - accuracy: 0.7849\n",
            "Epoch 4/100\n",
            "44/44 [==============================] - 0s 2ms/step - loss: 0.4734 - accuracy: 0.7938\n",
            "Epoch 5/100\n",
            "44/44 [==============================] - 0s 2ms/step - loss: 0.4656 - accuracy: 0.7913\n",
            "Epoch 6/100\n",
            "44/44 [==============================] - 0s 2ms/step - loss: 0.4588 - accuracy: 0.7996\n",
            "Epoch 7/100\n",
            "44/44 [==============================] - 0s 2ms/step - loss: 0.4570 - accuracy: 0.8071\n",
            "Epoch 8/100\n",
            "44/44 [==============================] - 0s 2ms/step - loss: 0.4530 - accuracy: 0.8053\n",
            "Epoch 9/100\n",
            "44/44 [==============================] - 0s 2ms/step - loss: 0.4563 - accuracy: 0.8039\n",
            "Epoch 10/100\n",
            "44/44 [==============================] - 0s 2ms/step - loss: 0.4536 - accuracy: 0.8017\n",
            "Epoch 11/100\n",
            "44/44 [==============================] - 0s 2ms/step - loss: 0.4481 - accuracy: 0.8060\n",
            "Epoch 12/100\n",
            "44/44 [==============================] - 0s 2ms/step - loss: 0.4467 - accuracy: 0.8028\n",
            "Epoch 13/100\n",
            "44/44 [==============================] - 0s 2ms/step - loss: 0.4484 - accuracy: 0.8075\n",
            "Epoch 14/100\n",
            "44/44 [==============================] - 0s 2ms/step - loss: 0.4494 - accuracy: 0.8082\n",
            "Epoch 15/100\n",
            "44/44 [==============================] - 0s 2ms/step - loss: 0.4437 - accuracy: 0.8136\n",
            "Epoch 16/100\n",
            "44/44 [==============================] - 0s 2ms/step - loss: 0.4482 - accuracy: 0.8060\n",
            "Epoch 17/100\n",
            "44/44 [==============================] - 0s 2ms/step - loss: 0.4398 - accuracy: 0.8118\n",
            "Epoch 18/100\n",
            "44/44 [==============================] - 0s 2ms/step - loss: 0.4451 - accuracy: 0.8143\n",
            "Epoch 19/100\n",
            "44/44 [==============================] - 0s 2ms/step - loss: 0.4430 - accuracy: 0.8150\n",
            "Epoch 20/100\n",
            "44/44 [==============================] - 0s 2ms/step - loss: 0.4452 - accuracy: 0.8093\n",
            "Epoch 21/100\n",
            "44/44 [==============================] - 0s 2ms/step - loss: 0.4398 - accuracy: 0.8143\n",
            "Epoch 22/100\n",
            "44/44 [==============================] - 0s 2ms/step - loss: 0.4389 - accuracy: 0.8132\n",
            "Epoch 23/100\n",
            "44/44 [==============================] - 1s 15ms/step - loss: 0.4352 - accuracy: 0.8211\n",
            "Epoch 24/100\n",
            "44/44 [==============================] - 0s 2ms/step - loss: 0.4373 - accuracy: 0.8110\n",
            "Epoch 25/100\n",
            "44/44 [==============================] - 0s 2ms/step - loss: 0.4392 - accuracy: 0.8143\n",
            "Epoch 26/100\n",
            "44/44 [==============================] - 0s 2ms/step - loss: 0.4374 - accuracy: 0.8153\n",
            "Epoch 27/100\n",
            "44/44 [==============================] - 0s 2ms/step - loss: 0.4357 - accuracy: 0.8179\n",
            "Epoch 28/100\n",
            "44/44 [==============================] - 0s 2ms/step - loss: 0.4363 - accuracy: 0.8171\n",
            "Epoch 29/100\n",
            "44/44 [==============================] - 0s 2ms/step - loss: 0.4355 - accuracy: 0.8139\n",
            "Epoch 30/100\n",
            "44/44 [==============================] - 0s 2ms/step - loss: 0.4339 - accuracy: 0.8139\n",
            "Epoch 31/100\n",
            "44/44 [==============================] - 0s 2ms/step - loss: 0.4334 - accuracy: 0.8150\n",
            "Epoch 32/100\n",
            "44/44 [==============================] - 0s 2ms/step - loss: 0.4315 - accuracy: 0.8146\n",
            "Epoch 33/100\n",
            "44/44 [==============================] - 0s 2ms/step - loss: 0.4366 - accuracy: 0.8150\n",
            "Epoch 34/100\n",
            "44/44 [==============================] - 0s 2ms/step - loss: 0.4340 - accuracy: 0.8128\n",
            "Epoch 35/100\n",
            "44/44 [==============================] - 0s 2ms/step - loss: 0.4321 - accuracy: 0.8150\n",
            "Epoch 36/100\n",
            "44/44 [==============================] - 0s 2ms/step - loss: 0.4316 - accuracy: 0.8175\n",
            "Epoch 37/100\n",
            "44/44 [==============================] - 0s 2ms/step - loss: 0.4347 - accuracy: 0.8114\n",
            "Epoch 38/100\n",
            "44/44 [==============================] - 0s 2ms/step - loss: 0.4291 - accuracy: 0.8150\n",
            "Epoch 39/100\n",
            "44/44 [==============================] - 0s 2ms/step - loss: 0.4295 - accuracy: 0.8179\n",
            "Epoch 40/100\n",
            "44/44 [==============================] - 0s 2ms/step - loss: 0.4310 - accuracy: 0.8157\n",
            "Epoch 41/100\n",
            "44/44 [==============================] - 0s 2ms/step - loss: 0.4330 - accuracy: 0.8168\n",
            "Epoch 42/100\n",
            "44/44 [==============================] - 0s 2ms/step - loss: 0.4314 - accuracy: 0.8179\n",
            "Epoch 43/100\n",
            "44/44 [==============================] - 0s 2ms/step - loss: 0.4281 - accuracy: 0.8132\n",
            "Epoch 44/100\n",
            "44/44 [==============================] - 0s 2ms/step - loss: 0.4326 - accuracy: 0.8171\n",
            "Epoch 45/100\n",
            "44/44 [==============================] - 0s 2ms/step - loss: 0.4283 - accuracy: 0.8153\n",
            "Epoch 46/100\n",
            "44/44 [==============================] - 0s 2ms/step - loss: 0.4293 - accuracy: 0.8179\n",
            "Epoch 47/100\n",
            "44/44 [==============================] - 0s 2ms/step - loss: 0.4305 - accuracy: 0.8150\n",
            "Epoch 48/100\n",
            "44/44 [==============================] - 0s 2ms/step - loss: 0.4264 - accuracy: 0.8128\n",
            "Epoch 49/100\n",
            "44/44 [==============================] - 0s 2ms/step - loss: 0.4296 - accuracy: 0.8143\n",
            "Epoch 50/100\n",
            "44/44 [==============================] - 0s 2ms/step - loss: 0.4273 - accuracy: 0.8146\n",
            "Epoch 51/100\n",
            "44/44 [==============================] - 0s 2ms/step - loss: 0.4310 - accuracy: 0.8153\n",
            "Epoch 52/100\n",
            "44/44 [==============================] - 0s 2ms/step - loss: 0.4312 - accuracy: 0.8143\n",
            "Epoch 53/100\n",
            "44/44 [==============================] - 0s 2ms/step - loss: 0.4316 - accuracy: 0.8196\n",
            "Epoch 54/100\n",
            "44/44 [==============================] - 0s 2ms/step - loss: 0.4262 - accuracy: 0.8207\n",
            "Epoch 55/100\n",
            "44/44 [==============================] - 0s 2ms/step - loss: 0.4252 - accuracy: 0.8139\n",
            "Epoch 56/100\n",
            "44/44 [==============================] - 0s 2ms/step - loss: 0.4239 - accuracy: 0.8240\n",
            "Epoch 57/100\n",
            "44/44 [==============================] - 0s 2ms/step - loss: 0.4256 - accuracy: 0.8161\n",
            "Epoch 58/100\n",
            "44/44 [==============================] - 0s 2ms/step - loss: 0.4273 - accuracy: 0.8150\n",
            "Epoch 59/100\n",
            "44/44 [==============================] - 0s 2ms/step - loss: 0.4275 - accuracy: 0.8218\n",
            "Epoch 60/100\n",
            "44/44 [==============================] - 0s 2ms/step - loss: 0.4289 - accuracy: 0.8204\n",
            "Epoch 61/100\n",
            "44/44 [==============================] - 0s 2ms/step - loss: 0.4257 - accuracy: 0.8182\n",
            "Epoch 62/100\n",
            "44/44 [==============================] - 0s 2ms/step - loss: 0.4307 - accuracy: 0.8125\n",
            "Epoch 63/100\n",
            "44/44 [==============================] - 0s 2ms/step - loss: 0.4229 - accuracy: 0.8211\n",
            "Epoch 64/100\n",
            "44/44 [==============================] - 0s 2ms/step - loss: 0.4291 - accuracy: 0.8168\n",
            "Epoch 65/100\n",
            "44/44 [==============================] - 0s 2ms/step - loss: 0.4252 - accuracy: 0.8196\n",
            "Epoch 66/100\n",
            "44/44 [==============================] - 0s 2ms/step - loss: 0.4246 - accuracy: 0.8150\n",
            "Epoch 67/100\n",
            "44/44 [==============================] - 0s 2ms/step - loss: 0.4250 - accuracy: 0.8222\n",
            "Epoch 68/100\n",
            "44/44 [==============================] - 0s 2ms/step - loss: 0.4255 - accuracy: 0.8211\n",
            "Epoch 69/100\n",
            "44/44 [==============================] - 0s 2ms/step - loss: 0.4251 - accuracy: 0.8168\n",
            "Epoch 70/100\n",
            "44/44 [==============================] - 0s 2ms/step - loss: 0.4263 - accuracy: 0.8182\n",
            "Epoch 71/100\n",
            "44/44 [==============================] - 0s 2ms/step - loss: 0.4205 - accuracy: 0.8196\n",
            "Epoch 72/100\n",
            "44/44 [==============================] - 0s 2ms/step - loss: 0.4265 - accuracy: 0.8182\n",
            "Epoch 73/100\n",
            "44/44 [==============================] - 0s 3ms/step - loss: 0.4226 - accuracy: 0.8157\n",
            "Epoch 74/100\n",
            "44/44 [==============================] - 0s 2ms/step - loss: 0.4237 - accuracy: 0.8175\n",
            "Epoch 75/100\n",
            "44/44 [==============================] - 0s 2ms/step - loss: 0.4212 - accuracy: 0.8232\n",
            "Epoch 76/100\n",
            "44/44 [==============================] - 0s 2ms/step - loss: 0.4269 - accuracy: 0.8193\n",
            "Epoch 77/100\n",
            "44/44 [==============================] - 0s 2ms/step - loss: 0.4266 - accuracy: 0.8186\n",
            "Epoch 78/100\n",
            "44/44 [==============================] - 0s 2ms/step - loss: 0.4232 - accuracy: 0.8164\n",
            "Epoch 79/100\n",
            "44/44 [==============================] - 0s 2ms/step - loss: 0.4222 - accuracy: 0.8179\n",
            "Epoch 80/100\n",
            "44/44 [==============================] - 0s 2ms/step - loss: 0.4247 - accuracy: 0.8196\n",
            "Epoch 81/100\n",
            "44/44 [==============================] - 0s 2ms/step - loss: 0.4229 - accuracy: 0.8207\n",
            "Epoch 82/100\n",
            "44/44 [==============================] - 0s 2ms/step - loss: 0.4268 - accuracy: 0.8168\n",
            "Epoch 83/100\n",
            "44/44 [==============================] - 0s 2ms/step - loss: 0.4211 - accuracy: 0.8218\n",
            "Epoch 84/100\n",
            "44/44 [==============================] - 0s 2ms/step - loss: 0.4212 - accuracy: 0.8200\n",
            "Epoch 85/100\n",
            "44/44 [==============================] - 0s 2ms/step - loss: 0.4235 - accuracy: 0.8225\n",
            "Epoch 86/100\n",
            "44/44 [==============================] - 0s 2ms/step - loss: 0.4230 - accuracy: 0.8196\n",
            "Epoch 87/100\n",
            "44/44 [==============================] - 0s 2ms/step - loss: 0.4239 - accuracy: 0.8214\n",
            "Epoch 88/100\n",
            "44/44 [==============================] - 0s 2ms/step - loss: 0.4232 - accuracy: 0.8196\n",
            "Epoch 89/100\n",
            "44/44 [==============================] - 0s 2ms/step - loss: 0.4228 - accuracy: 0.8179\n",
            "Epoch 90/100\n",
            "44/44 [==============================] - 0s 2ms/step - loss: 0.4222 - accuracy: 0.8186\n",
            "Epoch 91/100\n",
            "44/44 [==============================] - 0s 2ms/step - loss: 0.4240 - accuracy: 0.8164\n",
            "Epoch 92/100\n",
            "44/44 [==============================] - 0s 2ms/step - loss: 0.4205 - accuracy: 0.8196\n",
            "Epoch 93/100\n",
            "44/44 [==============================] - 0s 3ms/step - loss: 0.4216 - accuracy: 0.8179\n",
            "Epoch 94/100\n",
            "44/44 [==============================] - 0s 2ms/step - loss: 0.4208 - accuracy: 0.8175\n",
            "Epoch 95/100\n",
            "44/44 [==============================] - 0s 2ms/step - loss: 0.4209 - accuracy: 0.8211\n",
            "Epoch 96/100\n",
            "44/44 [==============================] - 0s 2ms/step - loss: 0.4214 - accuracy: 0.8225\n",
            "Epoch 97/100\n",
            "44/44 [==============================] - 0s 2ms/step - loss: 0.4194 - accuracy: 0.8240\n",
            "Epoch 98/100\n",
            "44/44 [==============================] - 0s 2ms/step - loss: 0.4206 - accuracy: 0.8268\n",
            "Epoch 99/100\n",
            "44/44 [==============================] - 0s 2ms/step - loss: 0.4214 - accuracy: 0.8168\n",
            "Epoch 100/100\n",
            "44/44 [==============================] - 0s 2ms/step - loss: 0.4239 - accuracy: 0.8196\n"
          ]
        },
        {
          "output_type": "execute_result",
          "data": {
            "text/plain": [
              "<keras.callbacks.History at 0x7fe8cc7dcee0>"
            ]
          },
          "metadata": {},
          "execution_count": 70
        }
      ]
    },
    {
      "cell_type": "markdown",
      "metadata": {
        "id": "gbolTfGnUIoS"
      },
      "source": [
        "Q10. Obtain predictions on validation set and print accuracy, precision, recall and F1 score."
      ]
    },
    {
      "cell_type": "code",
      "metadata": {
        "id": "gAq4vXhDa80L",
        "colab": {
          "base_uri": "https://localhost:8080/"
        },
        "outputId": "fd557ffc-409d-463f-dd86-0cb10b4b717c"
      },
      "source": [
        "### WRITE CODE HERE \n",
        "y_preds_cv = final.predict(X_val)\n",
        "y_preds_cv = y_preds_cv.round()\n",
        "\n",
        "y_preds_cv"
      ],
      "execution_count": null,
      "outputs": [
        {
          "output_type": "stream",
          "name": "stdout",
          "text": [
            "38/38 [==============================] - 0s 2ms/step\n"
          ]
        },
        {
          "output_type": "execute_result",
          "data": {
            "text/plain": [
              "array([[1., 0.],\n",
              "       [1., 0.],\n",
              "       [0., 1.],\n",
              "       ...,\n",
              "       [1., 0.],\n",
              "       [1., 0.],\n",
              "       [1., 0.]], dtype=float32)"
            ]
          },
          "metadata": {},
          "execution_count": 71
        }
      ]
    },
    {
      "cell_type": "code",
      "source": [
        "# accuracy\n",
        "accuracy = accuracy_score(y_val_1d, y_preds_cv[:, 0])\n",
        "print(f'The accuracy is: {accuracy}')\n",
        "\n",
        "# recall\n",
        "recall = recall_score(y_val_1d, y_preds_cv[:, 0])\n",
        "print(f'The recall is: {recall}')\n",
        "\n",
        "# precision\n",
        "precision = precision_score(y_val_1d, y_preds_cv[:, 0])\n",
        "print(f'The precision is: {precision}')\n",
        "\n",
        "# f1-score\n",
        "f1 = f1_score(y_val_1d, y_preds_cv[:, 0])\n",
        "print(f'The f1 is: {f1}')"
      ],
      "metadata": {
        "colab": {
          "base_uri": "https://localhost:8080/"
        },
        "id": "TDGTgELAtIB5",
        "outputId": "879f413c-b5d4-497b-eea8-ae14e3ddf307"
      },
      "execution_count": null,
      "outputs": [
        {
          "output_type": "stream",
          "name": "stdout",
          "text": [
            "The accuracy is: 0.8193979933110368\n",
            "The recall is: 0.9254859611231101\n",
            "The precision is: 0.853585657370518\n",
            "The f1 is: 0.8880829015544042\n"
          ]
        }
      ]
    },
    {
      "cell_type": "markdown",
      "metadata": {
        "id": "09X3OxlixWRk"
      },
      "source": [
        "Do you get a better accuracy/recall/precision/F1 score than the first NN model you have built in exercise 5? Explain.\n",
        "\n",
        "Ans-\n",
        "\n",
        "Yes, the accuracy, recall and F1 score was better, with roughly the same precision scores.\n",
        "\n",
        "Hyperparameter tuning provided slight improvements as it runs through multiple combinations of parameters in order to find the best combination of parameters out of the given set. Hence, it is expected that it would perform better than if we just plug in values arbitrarily. "
      ]
    },
    {
      "cell_type": "markdown",
      "metadata": {
        "id": "LAkhIzsh_guc"
      },
      "source": [
        "### Logistic Regression and Random Forest\n",
        "In a real world scenario, you can try a number of algorithms for the same problem. Let us work with the same default payment dataset to produce Logistic Regression and Random Forest models."
      ]
    },
    {
      "cell_type": "markdown",
      "metadata": {
        "id": "_U2-FpQhhtdv"
      },
      "source": [
        "Q11. Implement a function logistic_regression_model that returns a logistic regression model with the best paprameters. You will use GridSearchCV to find the best parameters. The parameters search space is up to you. If there is any ConvergenceWarning, increase the number of iterations."
      ]
    },
    {
      "cell_type": "code",
      "metadata": {
        "id": "OxvUsf7I_guc"
      },
      "source": [
        "from sklearn.linear_model import LogisticRegression\n",
        "from sklearn.model_selection import GridSearchCV\n",
        "\n",
        "def logistic_regression_model(X_train, y_train):\n",
        "    ### YOUR CODE HERE ###\n",
        "    param_grid = {'penalty': ['none', 'l2'], 'C': np.logspace(-3, 3, 3), 'solver'  : ['newton-cg', 'lbfgs']}\n",
        "    model = LogisticRegression(random_state=26, max_iter=200)\n",
        "    clf = GridSearchCV(model, param_grid = param_grid, cv = 5, verbose=True, n_jobs=-1)\n",
        "    best_clf = clf.fit(X_train, y_train)\n",
        "\n",
        "    ######################\n",
        "    return best_clf.best_estimator_ # Return a logistic model with the best parameters you found"
      ],
      "execution_count": null,
      "outputs": []
    },
    {
      "cell_type": "markdown",
      "metadata": {
        "id": "peFhmNJYksHl"
      },
      "source": [
        "Q12. Fit the model by training set, obtain predictions on validation set and compute accuracy, precision, recall and F1 score."
      ]
    },
    {
      "cell_type": "code",
      "metadata": {
        "id": "2HmLPe08_guc",
        "colab": {
          "base_uri": "https://localhost:8080/"
        },
        "outputId": "1ef4ac0e-49f6-4bf6-80f3-a2825e74a0b0"
      },
      "source": [
        "# fit the model\n",
        "# compute accuracy,precision,recall on validation set\n",
        "### YOUR CODE HERE ###\n",
        "best_fit = logistic_regression_model(X_train, y_train.iloc[:, 0])\n",
        "best_fit"
      ],
      "execution_count": null,
      "outputs": [
        {
          "output_type": "stream",
          "name": "stdout",
          "text": [
            "Fitting 5 folds for each of 12 candidates, totalling 60 fits\n"
          ]
        },
        {
          "output_type": "execute_result",
          "data": {
            "text/plain": [
              "LogisticRegression(max_iter=200, random_state=26, solver='newton-cg')"
            ]
          },
          "metadata": {},
          "execution_count": 55
        }
      ]
    },
    {
      "cell_type": "code",
      "source": [
        "# make prediction\n",
        "pred_lr = best_fit.predict(X_val)\n",
        "pred_lr"
      ],
      "metadata": {
        "colab": {
          "base_uri": "https://localhost:8080/"
        },
        "id": "LuIR0iL_tXYf",
        "outputId": "8682d6c4-7504-45e2-b6cd-ae87bf1be546"
      },
      "execution_count": null,
      "outputs": [
        {
          "output_type": "execute_result",
          "data": {
            "text/plain": [
              "array([1, 1, 0, ..., 1, 1, 1], dtype=uint8)"
            ]
          },
          "metadata": {},
          "execution_count": 56
        }
      ]
    },
    {
      "cell_type": "code",
      "source": [
        "# accuracy\n",
        "accuracy = accuracy_score(y_val.iloc[:, 0], pred_lr)\n",
        "print(f'The accuracy is: {accuracy}')\n",
        "\n",
        "# recall\n",
        "recall = recall_score(y_val.iloc[:, 0], pred_lr)\n",
        "print(f'The recall is: {recall}')\n",
        "\n",
        "# precision\n",
        "precision = precision_score(y_val.iloc[:, 0], pred_lr)\n",
        "print(f'The precision is: {precision}')\n",
        "\n",
        "# f1-score\n",
        "f1 = f1_score(y_val.iloc[:, 0], pred_lr)\n",
        "print(f'The f1 is: {f1}')"
      ],
      "metadata": {
        "colab": {
          "base_uri": "https://localhost:8080/"
        },
        "id": "mc244DbUtY1y",
        "outputId": "3731c6b6-f60d-42c7-d210-93b708de8976"
      },
      "execution_count": null,
      "outputs": [
        {
          "output_type": "stream",
          "name": "stdout",
          "text": [
            "The accuracy is: 0.8219063545150501\n",
            "The recall is: 0.9352051835853131\n",
            "The precision is: 0.8498527968596663\n",
            "The f1 is: 0.8904884318766065\n"
          ]
        }
      ]
    },
    {
      "cell_type": "markdown",
      "metadata": {
        "id": "sJ79uCf3mcHN"
      },
      "source": [
        "Q13. Plot the ROC curve by giving appropriate names for title and axes. "
      ]
    },
    {
      "cell_type": "code",
      "metadata": {
        "id": "1cvXDdiH_guc",
        "colab": {
          "base_uri": "https://localhost:8080/",
          "height": 295
        },
        "outputId": "86d278c0-3b02-47a8-bcbc-23b6c3282e90"
      },
      "source": [
        "### WRITE CODE HERE\n",
        "from sklearn import metrics\n",
        "\n",
        "# auc\n",
        "# auc = roc_auc_score(y_val.iloc[:, 0], pred_lr)\n",
        "# print('ROC AUC: %f' % auc)\n",
        "\n",
        "# roc curve\n",
        "metrics.RocCurveDisplay.from_estimator(best_fit,X_val,y_val.iloc[:, 0])\n",
        "\n",
        "plt.xlabel('False positive rate (positive label = 1)')\n",
        "plt.ylabel('True positive rate (positive label = 1)')\n",
        "plt.title('Logistic Regression ROC curve')\n",
        "plt.show()"
      ],
      "execution_count": null,
      "outputs": [
        {
          "output_type": "display_data",
          "data": {
            "text/plain": [
              "<Figure size 432x288 with 1 Axes>"
            ],
            "image/png": "[encoded data removed]"
          },
          "metadata": {
            "needs_background": "light"
          }
        }
      ]
    },
    {
      "cell_type": "markdown",
      "metadata": {
        "id": "UrJqeP4wnAlp"
      },
      "source": [
        "Q14. Implement a function random_forest_model that returns a random forest model with the best paprameters. You will apply GridSearchCV to find the best parameters. The parameter search space is up to you. (Please set the random state of RandomForestClassifier to be 26.)"
      ]
    },
    {
      "cell_type": "code",
      "metadata": {
        "id": "6FwUS0At_guc"
      },
      "source": [
        "def random_forest_model(X_train, y_train):\n",
        "    rf = RandomForestClassifier(random_state=26) # Please set the random state to be 26\n",
        "    ### YOUR CODE HERE ###\n",
        "    param_grid = {\n",
        "    'max_depth': [None,10,25],\n",
        "    'max_features': ['auto','sqrt'],\n",
        "    'min_samples_leaf': [1,2,4],\n",
        "    'min_samples_split': [2,4,6],\n",
        "    'n_estimators': [25,50,100]\n",
        "    }\n",
        "    \n",
        "    grid_search = GridSearchCV(estimator = rf, scoring='recall', param_grid = param_grid, \n",
        "                          cv = 3, n_jobs = -1, verbose = 2)\n",
        "    \n",
        "    grid_search.fit(X_train,y_train)\n",
        "\n",
        "    final=grid_search.best_estimator_\n",
        "    return final # Return a logistic model with the best parameters you found and random_state=26"
      ],
      "execution_count": null,
      "outputs": []
    },
    {
      "cell_type": "markdown",
      "metadata": {
        "id": "dJvKtZ5Ho0by"
      },
      "source": [
        "Q15. Fit the model by training set, obtain predictions on validation set and compute accuracy, precision, recall and F1 score."
      ]
    },
    {
      "cell_type": "code",
      "metadata": {
        "id": "1ygnG-7U_guc",
        "colab": {
          "base_uri": "https://localhost:8080/"
        },
        "outputId": "4569876e-fecf-4b62-ce97-079b0a1385be"
      },
      "source": [
        "### WRITE CODE HERE\n",
        "best_fit_rf = random_forest_model(X_train, y_train.iloc[:, 0])\n",
        "best_fit_rf"
      ],
      "execution_count": null,
      "outputs": [
        {
          "output_type": "stream",
          "name": "stdout",
          "text": [
            "Fitting 3 folds for each of 162 candidates, totalling 486 fits\n"
          ]
        },
        {
          "output_type": "execute_result",
          "data": {
            "text/plain": [
              "RandomForestClassifier(max_depth=10, min_samples_leaf=4, random_state=26)"
            ]
          },
          "metadata": {},
          "execution_count": 60
        }
      ]
    },
    {
      "cell_type": "code",
      "source": [
        "pred_rf=best_fit_rf.predict(X_val)"
      ],
      "metadata": {
        "id": "6NpALHYctr8R"
      },
      "execution_count": null,
      "outputs": []
    },
    {
      "cell_type": "code",
      "source": [
        "# accuracy\n",
        "accuracy = accuracy_score(y_val.iloc[:, 0], pred_rf)\n",
        "print(f'The accuracy is: {accuracy}')\n",
        "\n",
        "# recall\n",
        "recall = recall_score(y_val.iloc[:, 0], pred_rf)\n",
        "print(f'The recall is: {recall}')\n",
        "\n",
        "# precision\n",
        "precision = precision_score(y_val.iloc[:, 0], pred_rf)\n",
        "print(f'The precision is: {precision}')\n",
        "\n",
        "# f1-score\n",
        "f1 = f1_score(y_val.iloc[:, 0], pred_rf)\n",
        "print(f'The f1 is: {f1}')"
      ],
      "metadata": {
        "colab": {
          "base_uri": "https://localhost:8080/"
        },
        "id": "aGHSUzZ1tmsR",
        "outputId": "c6b6d635-b87a-49f6-ce99-96ee832acba6"
      },
      "execution_count": null,
      "outputs": [
        {
          "output_type": "stream",
          "name": "stdout",
          "text": [
            "The accuracy is: 0.8110367892976589\n",
            "The recall is: 0.9341252699784017\n",
            "The precision is: 0.8398058252427184\n",
            "The f1 is: 0.8844580777096115\n"
          ]
        }
      ]
    },
    {
      "cell_type": "markdown",
      "metadata": {
        "id": "oPN8cSbMo6hh"
      },
      "source": [
        "Q16. Plot the ROC curve by giving appropriate names for title and axes."
      ]
    },
    {
      "cell_type": "code",
      "source": [
        "metrics.RocCurveDisplay.from_estimator(best_fit_rf,X_val,y_val.iloc[:, 0])\n",
        "\n",
        "plt.xlabel('False positive rate (positive label = 1)')\n",
        "plt.ylabel('True positive rate (positive label = 1)')\n",
        "plt.title('Random Forest ROC curve')\n",
        "plt.show()"
      ],
      "metadata": {
        "colab": {
          "base_uri": "https://localhost:8080/",
          "height": 295
        },
        "id": "KK7XPHN_ttxQ",
        "outputId": "13548373-9885-4cb1-93b0-97cc58bee125"
      },
      "execution_count": null,
      "outputs": [
        {
          "output_type": "display_data",
          "data": {
            "text/plain": [
              "<Figure size 432x288 with 1 Axes>"
            ],
            "image/png": "[encoded data removed]"
          },
          "metadata": {
            "needs_background": "light"
          }
        }
      ]
    },
    {
      "cell_type": "markdown",
      "metadata": {
        "id": "RIYIR7PX_guc"
      },
      "source": [
        "Q17: Which of the above 3 models (NN, Logistic function and random forest) worked best for you? Explain in details the reason for good/bad performance for each of the models?\n",
        "\n",
        "***Ans:***\n",
        "\n",
        "For the sake of comparing the models, we will use recall as the basis for comparison. This is because it is more important to capture the cases of credit defaults as it is more costly.\n",
        "\n",
        "In this case, the model with the best recall score is the logistic function.\n",
        "\n",
        "***Reasons for performance of each model:***\n",
        "All three models had similar recall scores, differing by not more than 0.01.  The performance on other metrics are also not very significantly different.\n",
        "\n",
        "Some reasons for the performance of the models could be as follows:\n",
        "\n",
        "**Neural network:**\n",
        "Neural networks are useful for modelling nonlinear data with large number of inputs. It is especially useful for use cases with many features. In this case, there are 82 features, and the model was able to perform relatively well.\n",
        "\n",
        "However, neural networks might get stuck in the local minimum, which could potential be very different from the global minimum. Neural networks also depend a lot on training data. This leads to the problem of overfitting. In this situation, the problem doesn't seem to be very significant given the similar performance scores to the other models.\n",
        "\n",
        "**Logistic function:**\n",
        "The logistic model is less inclined to overfitting, which explains its marginally higher scores on the validation set.It also makes no assumptions of distribution of classes in feature space.\n",
        "\n",
        "However, the regression assumes linearity between the dependent and independent variables, which may not always be true.\n",
        "\n",
        "**Random forest:**\n",
        "Random forest can handle large dataset efficiently. It can also work with nonlinear datasets. It also has methods for balancing errors in data sets where classes are imbalanced, such as when there are more observations that do not default than those that do.\n",
        "\n",
        "However, random forest is prone to overfitting, and pruning is important. In this case, overfitting does not seem to be a major issue, given the similar performance scores with other models.\n",
        "\n"
      ]
    },
    {
      "cell_type": "markdown",
      "metadata": {
        "id": "SLTYUUkg_guc"
      },
      "source": [
        "Using the best of the above 3 models, obtain predictions for the test set."
      ]
    },
    {
      "cell_type": "code",
      "metadata": {
        "id": "DXy2-Vm8_guc"
      },
      "source": [
        "### YOUR CODE HERE ###\n",
        "y_pred = best_fit.predict(df_test3)"
      ],
      "execution_count": null,
      "outputs": []
    },
    {
      "cell_type": "markdown",
      "metadata": {
        "id": "GovVk2a2_guc"
      },
      "source": [
        "# Exercise 6\n",
        "\n",
        "### Convolution Neural Netwrok\n",
        "\n",
        "In neural networks, Convolutional neural network (ConvNets or CNNs) is one of the main categories to do images recognition, images classifications. Objects detections, recognition faces etc., are some of the areas where CNNs are widely used.\n",
        "\n",
        "CNN models to train and test, each input image will pass it through a series of convolution layers with filters (Kernals), Pooling, fully connected layers (FC) and apply Softmax function to classify an object with probabilistic values between 0 and 1. \n",
        "\n",
        "The dataset which we will use in this part is Fashion-MNIST classification dataset. This is a dataset of 60,000 28x28 pixel grayscale images of items of 10 types of clothing, along with a test set of 10,000 images.\n",
        "\n",
        "The mapping of all 0-9 integers to class labels is listed below.\n",
        "\n",
        "0: T-shirt/top<br>\n",
        "1: Trouser<br>\n",
        "2: Pullover<br>\n",
        "3: Dress<br>\n",
        "4: Coat<br>\n",
        "5: Sandal<br>\n",
        "6: Shirt<br>\n",
        "7: Sneaker<br>\n",
        "8: Bag<br>\n",
        "9: Ankle boot<br>\n",
        "\n"
      ]
    },
    {
      "cell_type": "code",
      "metadata": {
        "id": "_ZfLoyoY_guc",
        "colab": {
          "base_uri": "https://localhost:8080/"
        },
        "outputId": "36faae13-e03d-4f88-ab26-b30703d88fb8"
      },
      "source": [
        "from keras.datasets import fashion_mnist\n",
        "from keras.layers import Conv2D, MaxPool2D\n",
        "from keras.layers import Dense, Flatten\n",
        "from tensorflow.keras.utils import to_categorical\n",
        "\n",
        "(x_train, y_train), (x_test, y_test) = fashion_mnist.load_data()"
      ],
      "execution_count": null,
      "outputs": [
        {
          "output_type": "stream",
          "name": "stdout",
          "text": [
            "Downloading data from https://storage.googleapis.com/tensorflow/tf-keras-datasets/train-labels-idx1-ubyte.gz\n",
            "29515/29515 [==============================] - 0s 0us/step\n",
            "Downloading data from https://storage.googleapis.com/tensorflow/tf-keras-datasets/train-images-idx3-ubyte.gz\n",
            "26421880/26421880 [==============================] - 0s 0us/step\n",
            "Downloading data from https://storage.googleapis.com/tensorflow/tf-keras-datasets/t10k-labels-idx1-ubyte.gz\n",
            "5148/5148 [==============================] - 0s 0us/step\n",
            "Downloading data from https://storage.googleapis.com/tensorflow/tf-keras-datasets/t10k-images-idx3-ubyte.gz\n",
            "4422102/4422102 [==============================] - 0s 0us/step\n"
          ]
        }
      ]
    },
    {
      "cell_type": "code",
      "metadata": {
        "colab": {
          "base_uri": "https://localhost:8080/"
        },
        "id": "BjL97RM7_guc",
        "outputId": "972d7943-44b7-4266-e1fb-18babbf931c0"
      },
      "source": [
        "print(x_train.shape)"
      ],
      "execution_count": null,
      "outputs": [
        {
          "output_type": "stream",
          "name": "stdout",
          "text": [
            "(60000, 28, 28)\n"
          ]
        }
      ]
    },
    {
      "cell_type": "markdown",
      "metadata": {
        "id": "3Wbjbvu92Sva"
      },
      "source": [
        "Create a plot of the first nine images in the training dataset."
      ]
    },
    {
      "cell_type": "code",
      "metadata": {
        "colab": {
          "base_uri": "https://localhost:8080/",
          "height": 268
        },
        "id": "Bxe8-1Zj_guc",
        "outputId": "147a6d83-eec8-4d30-f825-d91afaf5de37"
      },
      "source": [
        "import matplotlib.pyplot as plt\n",
        "# plot first few images\n",
        "for i in range(9):\n",
        "    # define subplot\n",
        "    plt.subplot(330 + 1 + i)\n",
        "    # plot raw pixel data\n",
        "    plt.imshow(x_train[i])\n",
        "# show the figure\n",
        "plt.show()"
      ],
      "execution_count": null,
      "outputs": [
        {
          "output_type": "display_data",
          "data": {
            "text/plain": [
              "<Figure size 432x288 with 9 Axes>"
            ],
            "image/png": "[encoded data removed]"
          },
          "metadata": {
            "needs_background": "light"
          }
        }
      ]
    },
    {
      "cell_type": "markdown",
      "metadata": {
        "id": "-C05JJEQ_guc"
      },
      "source": [
        "Q1. To process images in neural network, we have to indicate how may channels (depth) we are going to use. For instance, a coloful image from a standard digital camera will have a red, green and blue channel (RGB), so it has 3 channels (i.e. depth=3) in total, whereas a grayscale image only has 1 channel (depth=1). \n",
        "\n",
        "The Fashion-MNIST dataset is grayscale, and we can reshape Fashion-MNIST to have a single channel. (i.e., Convert each 28 x 28 image of the train and test set into a matrix of size 28 x 28 x 1.)"
      ]
    },
    {
      "cell_type": "code",
      "metadata": {
        "id": "O9Mh0Ups_guc"
      },
      "source": [
        "### YOUR CODE HERE ###\n",
        "x_train = x_train.reshape((x_train.shape[0], 28, 28, 1))\n",
        "x_test = x_test.reshape((x_test.shape[0], 28, 28, 1))"
      ],
      "execution_count": null,
      "outputs": []
    },
    {
      "cell_type": "markdown",
      "metadata": {
        "id": "yt3x_StZ_gud"
      },
      "source": [
        "We know that the pixel values for each image in the dataset are unsigned integers in the range between black and white, or 0 and 255.\n",
        "\n",
        "Q2. Normalize the pixel values of grayscale images, e.g. rescale them to the range [0, 1]. "
      ]
    },
    {
      "cell_type": "code",
      "metadata": {
        "id": "KZgQ6enJ_gud"
      },
      "source": [
        "### YOUR CODE HERE ###\n",
        "x_train = x_train / 255.0\n",
        "x_test = x_test / 255.0"
      ],
      "execution_count": null,
      "outputs": []
    },
    {
      "cell_type": "markdown",
      "metadata": {
        "id": "FWLwQmCW_gud"
      },
      "source": [
        "Q3. You also need to convert the target values into binary values (one-hot encoding)."
      ]
    },
    {
      "cell_type": "code",
      "metadata": {
        "id": "jKxcwWtd_gud"
      },
      "source": [
        "### YOUR CODE HERE ###\n",
        "y_train = to_categorical(y_train)\n",
        "y_test = to_categorical(y_test)"
      ],
      "execution_count": null,
      "outputs": []
    },
    {
      "cell_type": "markdown",
      "metadata": {
        "id": "fE383J1v_gud"
      },
      "source": [
        "Q4. Implement build_cnn_model() that returns a CNN model that takes an input of image, passes it to:\n",
        "- A convolution layer with 32 filters and kernel size 5x5\n",
        "- A MaxPool layer of size 2x2\n",
        "- Another convolution layer with 64 filters and kernel size 5x5\n",
        "- Another MaxPool layer of size 2x2\n",
        "- Another convolution layer with 128 filters and kernel size 3x3\n",
        "- Another MaxPool layer of size 2x2\n",
        "- Flatten it\n",
        "- Add one regular fully-connected layer of 128 units\n",
        "- Finally, output your classification by another fully-connected layer, whose number of units is determined by yourself.\n",
        "\n",
        "Our goal is to minimize the categorical_crossentropy loss.\n",
        "\n",
        "As before, use the \"relu\" activation function for all the convolution/full-connected layers, but use the \"softmax\" activation for the final fully-connected layer (readout layer).\n",
        "\n",
        "The optimizer and loss function have been filled in for you."
      ]
    },
    {
      "cell_type": "code",
      "metadata": {
        "id": "EHw2vzuA_gud"
      },
      "source": [
        "def build_cnn_model():\n",
        "    model = Sequential()\n",
        "    ### YOUR CODE HERE ###\n",
        "\n",
        "    model.add(Conv2D(32, (5,5), input_shape = (28, 28, 1)))\n",
        "\n",
        "    model.add(MaxPool2D(2, 2))\n",
        "\n",
        "    model.add(Conv2D(64, (5,5)))\n",
        "\n",
        "    model.add(MaxPool2D(2, 2))\n",
        "\n",
        "    model.add(Conv2D(128, (3, 3)))\n",
        "\n",
        "    model.add(MaxPool2D((2, 2)))\n",
        "\n",
        "    model.add(Flatten())\n",
        "\n",
        "    model.add(Dense(128, activation = 'relu'))\n",
        "\n",
        "    model.add(Dense(10, activation = 'softmax'))\n",
        "   \n",
        "    ######################\n",
        "    model.compile(optimizer='adam',loss='categorical_crossentropy',metrics=['accuracy'])\n",
        "\n",
        "    return model\n",
        "\n",
        "model = build_cnn_model()"
      ],
      "execution_count": null,
      "outputs": []
    },
    {
      "cell_type": "markdown",
      "metadata": {
        "id": "q2jWb_8-_gud"
      },
      "source": [
        "Q5. Fit your CNN model by x_train, y_train"
      ]
    },
    {
      "cell_type": "code",
      "metadata": {
        "id": "9KwDFyoX_gud",
        "colab": {
          "base_uri": "https://localhost:8080/"
        },
        "outputId": "754c54c1-12d1-4941-d2b8-f9bae770f0e9"
      },
      "source": [
        "### YOUR CODE HERE ###\n",
        "model = build_cnn_model()\n",
        "\n",
        "model.fit(x_train, y_train, epochs = 10, batch_size = 32)"
      ],
      "execution_count": null,
      "outputs": [
        {
          "output_type": "stream",
          "name": "stdout",
          "text": [
            "Epoch 1/10\n",
            "1875/1875 [==============================] - 72s 38ms/step - loss: 0.4857 - accuracy: 0.8213\n",
            "Epoch 2/10\n",
            "1875/1875 [==============================] - 73s 39ms/step - loss: 0.3223 - accuracy: 0.8821\n",
            "Epoch 3/10\n",
            "1875/1875 [==============================] - 74s 39ms/step - loss: 0.2758 - accuracy: 0.8988\n",
            "Epoch 4/10\n",
            "1875/1875 [==============================] - 77s 41ms/step - loss: 0.2405 - accuracy: 0.9104\n",
            "Epoch 5/10\n",
            "1875/1875 [==============================] - 74s 39ms/step - loss: 0.2126 - accuracy: 0.9193\n",
            "Epoch 6/10\n",
            "1875/1875 [==============================] - 73s 39ms/step - loss: 0.1881 - accuracy: 0.9285\n",
            "Epoch 7/10\n",
            "1875/1875 [==============================] - 74s 39ms/step - loss: 0.1724 - accuracy: 0.9353\n",
            "Epoch 8/10\n",
            "1875/1875 [==============================] - 72s 39ms/step - loss: 0.1517 - accuracy: 0.9426\n",
            "Epoch 9/10\n",
            "1875/1875 [==============================] - 74s 39ms/step - loss: 0.1412 - accuracy: 0.9459\n",
            "Epoch 10/10\n",
            "1875/1875 [==============================] - 73s 39ms/step - loss: 0.1292 - accuracy: 0.9520\n"
          ]
        },
        {
          "output_type": "execute_result",
          "data": {
            "text/plain": [
              "<keras.callbacks.History at 0x7fe8d36f6370>"
            ]
          },
          "metadata": {},
          "execution_count": 80
        }
      ]
    },
    {
      "cell_type": "markdown",
      "metadata": {
        "id": "y-aiZKIy_gud"
      },
      "source": [
        "Q6. Evaluate your model on test set and print out the entropy loss and the accuracy"
      ]
    },
    {
      "cell_type": "code",
      "metadata": {
        "id": "xziZ1dSd_gud",
        "colab": {
          "base_uri": "https://localhost:8080/"
        },
        "outputId": "d1ed76a7-fd8f-447e-80fb-e8d53b2fc421"
      },
      "source": [
        "### YOUR CODE HERE ###\n",
        "loss, acc = model.evaluate(x_test, y_test)\n",
        "print(f\"Entropy Loss is {loss:.3f}\")\n",
        "print(f\"Accuracy is {acc:.3f}\")"
      ],
      "execution_count": null,
      "outputs": [
        {
          "output_type": "stream",
          "name": "stdout",
          "text": [
            "313/313 [==============================] - 4s 12ms/step - loss: 0.3587 - accuracy: 0.8969\n",
            "Entropy Loss is 0.359\n",
            "Accuracy is 0.897\n"
          ]
        }
      ]
    },
    {
      "cell_type": "markdown",
      "metadata": {
        "id": "0DmSAf12Fwhy"
      },
      "source": [
        "Q7. Now let's check the performance of multi-layer perceptrons (MLP) in image classfication. Implement build_mlp_model() that returns a MLP model that takes an input of image, passes it to 1 Flatten layer then 3 full-connected layers and the final fully-connected readout layer.\n",
        "\n",
        "The number of units in each full-connected layer is determined by yourself. \n",
        "\n",
        "As before, use the \"relu\" activation function for the first 2 full-connected layers, but use the \"softmax\" activation for the final fully-connected layer (readout layer).\n",
        "\n",
        "The optimizer and loss function have been filled in for you."
      ]
    },
    {
      "cell_type": "code",
      "metadata": {
        "id": "4-4pFhpzFzwh"
      },
      "source": [
        "def build_mlp_model():\n",
        "    model = Sequential()\n",
        "    ### YOUR CODE HERE ###\n",
        "    model.add(Flatten())\n",
        "    model.add(Dense(300, activation='relu'))\n",
        "    model.add(Dense(100, activation='relu'))\n",
        "    model.add(Dense(10, activation='softmax'))\n",
        "   \n",
        "    ######################\n",
        "    model.compile(optimizer='adam',loss='categorical_crossentropy',metrics=['accuracy'])\n",
        "\n",
        "    return model\n",
        "\n",
        "model2 = build_mlp_model()"
      ],
      "execution_count": null,
      "outputs": []
    },
    {
      "cell_type": "markdown",
      "metadata": {
        "id": "vFStrAzuI3gm"
      },
      "source": [
        "Q8. Fit your MLP model by x_train, y_train. (Please use the same parameters as those in CNN model for comparison)"
      ]
    },
    {
      "cell_type": "code",
      "metadata": {
        "id": "OluA4qYII2BH",
        "colab": {
          "base_uri": "https://localhost:8080/"
        },
        "outputId": "f94078d6-133c-4e5a-ec81-ae7809e62272"
      },
      "source": [
        "### YOUR CODE HERE ###\n",
        "model = build_mlp_model()\n",
        "model.fit(x_train, y_train, epochs = 10, batch_size = 32)"
      ],
      "execution_count": null,
      "outputs": [
        {
          "output_type": "stream",
          "name": "stdout",
          "text": [
            "Epoch 1/10\n",
            "1875/1875 [==============================] - 10s 5ms/step - loss: 0.4758 - accuracy: 0.8278\n",
            "Epoch 2/10\n",
            "1875/1875 [==============================] - 11s 6ms/step - loss: 0.3590 - accuracy: 0.8673\n",
            "Epoch 3/10\n",
            "1875/1875 [==============================] - 9s 5ms/step - loss: 0.3243 - accuracy: 0.8792\n",
            "Epoch 4/10\n",
            "1875/1875 [==============================] - 12s 6ms/step - loss: 0.3018 - accuracy: 0.8882\n",
            "Epoch 5/10\n",
            "1875/1875 [==============================] - 9s 5ms/step - loss: 0.2823 - accuracy: 0.8945\n",
            "Epoch 6/10\n",
            "1875/1875 [==============================] - 9s 5ms/step - loss: 0.2696 - accuracy: 0.9004\n",
            "Epoch 7/10\n",
            "1875/1875 [==============================] - 9s 5ms/step - loss: 0.2577 - accuracy: 0.9035\n",
            "Epoch 8/10\n",
            "1875/1875 [==============================] - 9s 5ms/step - loss: 0.2420 - accuracy: 0.9092\n",
            "Epoch 9/10\n",
            "1875/1875 [==============================] - 9s 5ms/step - loss: 0.2356 - accuracy: 0.9111\n",
            "Epoch 10/10\n",
            "1875/1875 [==============================] - 9s 5ms/step - loss: 0.2250 - accuracy: 0.9147\n"
          ]
        },
        {
          "output_type": "execute_result",
          "data": {
            "text/plain": [
              "<keras.callbacks.History at 0x7fe8d908b670>"
            ]
          },
          "metadata": {},
          "execution_count": 83
        }
      ]
    },
    {
      "cell_type": "markdown",
      "metadata": {
        "id": "guVQ5vUEJEcF"
      },
      "source": [
        "Q9. Evaluate your model on test set and print out the entropy loss and the accuracy"
      ]
    },
    {
      "cell_type": "code",
      "metadata": {
        "id": "Sas8hYhPJE_G",
        "colab": {
          "base_uri": "https://localhost:8080/"
        },
        "outputId": "9d924299-06cd-4be0-c3fe-44f1d75088c3"
      },
      "source": [
        "### YOUR CODE HERE ###\n",
        "loss, acc = model.evaluate(x_test, y_test)\n",
        "print(f\"Entropy Loss is {loss:.3f}\")\n",
        "print(f\"Accuracy is {acc:.3f}\")"
      ],
      "execution_count": null,
      "outputs": [
        {
          "output_type": "stream",
          "name": "stdout",
          "text": [
            "313/313 [==============================] - 1s 3ms/step - loss: 0.3370 - accuracy: 0.8871\n",
            "Entropy Loss is 0.337\n",
            "Accuracy is 0.887\n"
          ]
        }
      ]
    },
    {
      "cell_type": "markdown",
      "metadata": {
        "id": "QbA14ef9JN_q"
      },
      "source": [
        "Q10. Which of the above 2 models worked best for you? Explain in details the reason for good/bad performance for each of the models."
      ]
    },
    {
      "cell_type": "markdown",
      "metadata": {
        "id": "0D7oxVG4JRMg"
      },
      "source": [
        "Ans - \n",
        "The first model (CNN) worked best, given it has a better accuracy score and lower entropy loss.\n",
        "\n",
        "Explanation:\n",
        "MLP includes too many parameters because it is fully connected, resulting in redundancy and inefficiency. This leads to overfitting and reduces its performance on the test set.\n",
        "\n",
        "Spatial information is also lost when the image is flattened(matrix to vector) into an MLP.\n",
        "\n",
        "On the other hand, CNN automatically detects the important features of the images. It is able to develop an internal representation of a image to learn position and scale in variant structures in the data, making it excellent for identifying image categories.\n",
        "\n"
      ]
    },
    {
      "cell_type": "markdown",
      "metadata": {
        "id": "nDBV47Ys_gud"
      },
      "source": [
        "# Exercise 7\n",
        "### Autoencoder\n",
        "\n",
        "So far, we have learned a lot about how to use neural networks in supervised learning, but in fact there are also many applications of neural networks in unsupervised learning such as autoencoder.\n",
        "\n",
        "An autoencoder is a special type of neural network that is trained to copy its input to its output. For example, given an image of a handwritten digit, an autoencoder first encodes the image into a lower dimensional latent representation, then decodes the latent representation back to an image. An autoencoder learns to compress the data while minimizing the reconstruction error.\n",
        "\n",
        "In this part, we will continue using Fashion-MNIST dataset."
      ]
    },
    {
      "cell_type": "markdown",
      "metadata": {
        "id": "92oW7KZL_gud"
      },
      "source": [
        "Q1. Implement an autoencoder model that takes an input of 28x28x1 images, compress them into (4,) vectors by an econder, and then decompress them back to 28x28 images by a decoder. In other words, the orginal dimensionality is 784 (=28x28), but we want to compress it into the dimensionality of 4 by an encoder, then reconstruct these (4,) vectors back to 28x28 images by an decoder. \n",
        "\n",
        "You only need to define an encoder and a decoder. In your encoder, you need to inlude a flatten layer and several fully-connected layers, while in your decoder, you are required to use fully-connected layers and one reshape layer. Do not use other types of layers.\n",
        "\n",
        "You will determine the number of fully-connected layers, number of units, and activation functions by yourself.\n",
        "\n",
        "The optimizer and loss function have been filled in for you."
      ]
    },
    {
      "cell_type": "code",
      "metadata": {
        "id": "xYeLYEvu_gud"
      },
      "source": [
        "from keras.models import Model\n",
        "from keras.layers import Reshape, Input\n",
        "\n",
        "# encoder layers\n",
        "encoding_dim = 4\n",
        "encoded = Sequential()\n",
        "# You don't need to build a new function, just add the layers\n",
        "### YOUR CODE HERE ###\n",
        "encoded.add(Flatten())\n",
        "encoded.add(Dense(784, activation='relu'))\n",
        "encoded.add(Dense(512, activation='relu'))\n",
        "encoded.add(Dense(256, activation='relu'))\n",
        "encoded.add(Dense(50, activation='relu'))\n",
        "encoded.add(Dense(encoding_dim, activation='relu'))\n",
        "\n",
        "\n",
        "\n",
        "######################\n",
        "\n",
        "# decoder layers\n",
        "decoded = Sequential()\n",
        "### YOUR CODE HERE ###\n",
        "decoded.add(Dense(encoding_dim, activation = 'relu'))\n",
        "decoded.add(Dense(50, activation = 'relu', input_shape = (4,)))\n",
        "decoded.add(Dense(256, activation = 'relu'))\n",
        "decoded.add(Dense(512, activation = 'relu'))\n",
        "decoded.add(Dense(784, activation = 'relu'))\n",
        "decoded.add(Reshape((28, 28)))\n",
        "\n",
        "######################\n",
        "img_x, img_y = 28, 28\n",
        "input_x = Input(shape=(img_x, img_y, 1))\n",
        "code = encoded(input_x)\n",
        "output = decoded(code)\n",
        "\n",
        "autoencoder = Model(input_x,output)\n",
        "\n",
        "autoencoder.compile(optimizer='adam', loss='mse')"
      ],
      "execution_count": null,
      "outputs": []
    },
    {
      "cell_type": "markdown",
      "metadata": {
        "id": "-QXU9iAI_gud"
      },
      "source": [
        "Q2. Fit your model by x_train only"
      ]
    },
    {
      "cell_type": "code",
      "metadata": {
        "id": "tJj4-XEv_gud",
        "colab": {
          "base_uri": "https://localhost:8080/"
        },
        "outputId": "e6e00d6d-5054-4175-fb3f-6c82e48e230c"
      },
      "source": [
        "### YOUR CODE HERE ###\n",
        "autoencoder.fit(x_train, x_train, epochs = 10, batch_size = 32)"
      ],
      "execution_count": null,
      "outputs": [
        {
          "output_type": "stream",
          "name": "stdout",
          "text": [
            "Epoch 1/10\n",
            "1875/1875 [==============================] - 47s 24ms/step - loss: 0.0453\n",
            "Epoch 2/10\n",
            "1875/1875 [==============================] - 46s 24ms/step - loss: 0.0309\n",
            "Epoch 3/10\n",
            "1875/1875 [==============================] - 44s 23ms/step - loss: 0.0276\n",
            "Epoch 4/10\n",
            "1875/1875 [==============================] - 42s 23ms/step - loss: 0.0256\n",
            "Epoch 5/10\n",
            "1875/1875 [==============================] - 43s 23ms/step - loss: 0.0251\n",
            "Epoch 6/10\n",
            "1875/1875 [==============================] - 43s 23ms/step - loss: 0.0247\n",
            "Epoch 7/10\n",
            "1875/1875 [==============================] - 42s 22ms/step - loss: 0.0240\n",
            "Epoch 8/10\n",
            "1875/1875 [==============================] - 43s 23ms/step - loss: 0.0234\n",
            "Epoch 9/10\n",
            "1875/1875 [==============================] - 44s 23ms/step - loss: 0.0231\n",
            "Epoch 10/10\n",
            "1875/1875 [==============================] - 43s 23ms/step - loss: 0.0230\n"
          ]
        },
        {
          "output_type": "execute_result",
          "data": {
            "text/plain": [
              "<keras.callbacks.History at 0x7fe8d4159310>"
            ]
          },
          "metadata": {},
          "execution_count": 86
        }
      ]
    },
    {
      "cell_type": "markdown",
      "metadata": {
        "id": "CSBz3IsgX6Ye"
      },
      "source": [
        "Q3. Evaluate your model on test set and print out the MSE and output images as numpy arrays."
      ]
    },
    {
      "cell_type": "code",
      "metadata": {
        "id": "hQw_tBaEX6Ye",
        "colab": {
          "base_uri": "https://localhost:8080/"
        },
        "outputId": "bfcaae93-34bd-4c27-b376-be5609596361"
      },
      "source": [
        "# Test your autoencoder on test set, print out the MSE\n",
        "### YOUR CODE HERE ###\n",
        "eval = autoencoder.evaluate(x_test, x_test)\n",
        "print(f\"MSE is {eval:.3f}\")\n",
        "\n",
        "######################\n",
        "# output images as numpy arrays\n",
        "encoded_imgs = encoded(x_test).numpy()\n",
        "decoded_imgs = decoded(encoded_imgs).numpy()"
      ],
      "execution_count": null,
      "outputs": [
        {
          "output_type": "stream",
          "name": "stdout",
          "text": [
            "313/313 [==============================] - 2s 7ms/step - loss: 0.0229\n",
            "MSE is 0.023\n"
          ]
        }
      ]
    },
    {
      "cell_type": "markdown",
      "metadata": {
        "id": "nvq_j8HB_gud"
      },
      "source": [
        "Plot your encoded image"
      ]
    },
    {
      "cell_type": "code",
      "metadata": {
        "id": "a6x9ZLwi_gud",
        "colab": {
          "base_uri": "https://localhost:8080/",
          "height": 204
        },
        "outputId": "7eb154b7-7e35-4106-f72b-715dc2f90c4c"
      },
      "source": [
        "n = 10\n",
        "plt.figure(figsize=(20, 4))\n",
        "for i in range(n):\n",
        "  # display original\n",
        "  ax = plt.subplot(2, n, i + 1)\n",
        "  plt.imshow(x_test[i].reshape(28, 28))\n",
        "  plt.title(\"original\")\n",
        "  plt.gray()\n",
        "  ax.get_xaxis().set_visible(False)\n",
        "  ax.get_yaxis().set_visible(False)\n",
        "\n",
        "  # display reconstruction\n",
        "  ax = plt.subplot(2, n, i + 1 + n)\n",
        "  plt.imshow(encoded_imgs[i].reshape(2,2))\n",
        "  plt.title(\"Compressed\")\n",
        "  plt.gray()\n",
        "  ax.get_xaxis().set_visible(False)\n",
        "  ax.get_yaxis().set_visible(False)\n",
        "plt.show()"
      ],
      "execution_count": null,
      "outputs": [
        {
          "output_type": "display_data",
          "data": {
            "text/plain": [
              "<Figure size 1440x288 with 20 Axes>"
            ],
            "image/png": "[encoded data removed]"
          },
          "metadata": {
            "needs_background": "light"
          }
        }
      ]
    },
    {
      "cell_type": "markdown",
      "metadata": {
        "id": "iDu6PiJK_gud"
      },
      "source": [
        "Plot your decoded image"
      ]
    },
    {
      "cell_type": "code",
      "metadata": {
        "id": "xITJ9DkQSdhm",
        "colab": {
          "base_uri": "https://localhost:8080/",
          "height": 204
        },
        "outputId": "6e7d88d1-209a-4b28-f599-1fafd98c435b"
      },
      "source": [
        "n = 10\n",
        "plt.figure(figsize=(20, 4))\n",
        "for i in range(n):\n",
        "  # display original\n",
        "  ax = plt.subplot(2, n, i + 1)\n",
        "  plt.imshow(x_test[i].reshape(28, 28))\n",
        "  plt.title(\"original\")\n",
        "  plt.gray()\n",
        "  ax.get_xaxis().set_visible(False)\n",
        "  ax.get_yaxis().set_visible(False)\n",
        "\n",
        "  # display reconstruction\n",
        "  ax = plt.subplot(2, n, i + 1 + n)\n",
        "  plt.imshow(decoded_imgs[i])\n",
        "  plt.title(\"reconstructed\")\n",
        "  plt.gray()\n",
        "  ax.get_xaxis().set_visible(False)\n",
        "  ax.get_yaxis().set_visible(False)\n",
        "plt.show()"
      ],
      "execution_count": null,
      "outputs": [
        {
          "output_type": "display_data",
          "data": {
            "text/plain": [
              "<Figure size 1440x288 with 20 Axes>"
            ],
            "image/png": "[encoded data removed]"
          },
          "metadata": {
            "needs_background": "light"
          }
        }
      ]
    }
  ]
}